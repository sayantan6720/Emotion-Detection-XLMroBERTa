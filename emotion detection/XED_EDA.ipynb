{
 "cells": [
  {
   "cell_type": "code",
   "execution_count": 1,
   "metadata": {},
   "outputs": [],
   "source": [
    "import pandas as pd\n",
    "import numpy as np\n",
    "import matplotlib.pyplot as plt\n",
    "import seaborn as sns\n",
    "from sklearn.model_selection import train_test_split\n",
    "from collections import defaultdict\n",
    "import os\n"
   ]
  },
  {
   "cell_type": "code",
   "execution_count": 2,
   "metadata": {},
   "outputs": [],
   "source": [
    "import pandas as pd\n",
    "\n",
    "df_el = pd.read_csv('datasets/el-projections.tsv', sep='\\t', names=['text', 'emotion'], header=None)\n",
    "df_en = pd.read_csv('datasets/en-annotated.tsv', sep='\\t', names=['text', 'emotion'], header=None)\n",
    "df_fr = pd.read_csv('datasets/fr-projections.tsv', sep='\\t', names=['text', 'emotion'], header=None)\n",
    "df_pl = pd.read_csv('datasets/pl-projections.tsv', sep='\\t', names=['text', 'emotion'], header=None)\n",
    "df_pt = pd.read_csv('datasets/pt-projections.tsv', sep='\\t', names=['text', 'emotion'], header=None)\n",
    "df_ro = pd.read_csv('datasets/ro-projections.tsv', sep='\\t', names=['text', 'emotion'], header=None)\n",
    "df_sr = pd.read_csv('datasets/sr-projections.tsv', sep='\\t', names=['text', 'emotion'], header=None)\n",
    "df_bg = pd.read_csv('datasets/bg-projections.tsv', sep='\\t', names=['text', 'emotion'], header=None)\n",
    "df_cs = pd.read_csv('datasets/cs-projections.tsv', sep='\\t', names=['text', 'emotion'], header=None)\n",
    "df_br = pd.read_csv('datasets/br-projections.tsv', sep='\\t', names=['text', 'emotion'], header=None)\n",
    "\n",
    "df_el['language'] = 'Greek'\n",
    "df_en['language'] = 'English'\n",
    "df_br['language'] = 'Brazilian'\n",
    "df_fr['language'] = 'French'\n",
    "df_pl['language'] = 'Polish'\n",
    "df_pt['language'] = 'Portuguese'\n",
    "df_ro['language'] = 'Romanian'\n",
    "df_sr['language'] = 'Serbian'\n",
    "df_bg['language'] = 'Bulgarian'\n",
    "df_cs['language'] = 'Czech'"
   ]
  },
  {
   "cell_type": "code",
   "execution_count": 3,
   "metadata": {},
   "outputs": [],
   "source": [
    "df_el_train, df_el_test = train_test_split(df_el, test_size=0.2, random_state=42)\n",
    "df_en_train, df_en_test = train_test_split(df_en, test_size=0.2, random_state=42)\n",
    "df_br_train, df_br_test = train_test_split(df_br, test_size=0.2, random_state=42)\n",
    "df_cs_train, df_cs_test = train_test_split(df_cs, test_size=0.2, random_state=42)\n",
    "df_fr_train, df_fr_test = train_test_split(df_fr, test_size=0.2, random_state=42)\n",
    "df_pl_train, df_pl_test = train_test_split(df_pl, test_size=0.2, random_state=42)\n",
    "df_pt_train, df_pt_test = train_test_split(df_pt, test_size=0.2, random_state=42)\n",
    "df_ro_train, df_ro_test = train_test_split(df_ro, test_size=0.2, random_state=42)\n",
    "df_sr_train, df_sr_test = train_test_split(df_sr, test_size=0.2, random_state=42)\n",
    "df_bg_train, df_bg_test = train_test_split(df_bg, test_size=0.2, random_state=42)\n"
   ]
  },
  {
   "cell_type": "code",
   "execution_count": 4,
   "metadata": {},
   "outputs": [],
   "source": [
    "df_train = pd.concat([df_el_train, df_en_train, df_br_train, df_cs_train, \n",
    "df_fr_train, df_pl_train, df_pt_train, df_ro_train, df_sr_train, df_bg_train], ignore_index=True)\n",
    "\n",
    "df_test = pd.concat([df_el_test, df_en_test, df_br_test, df_cs_test, \n",
    "df_fr_test, df_pl_test, df_pt_test, df_ro_test, df_sr_test, df_bg_test], ignore_index=True)"
   ]
  },
  {
   "cell_type": "code",
   "execution_count": 5,
   "metadata": {},
   "outputs": [
    {
     "name": "stdout",
     "output_type": "stream",
     "text": [
      "Missing values in df_train:\n",
      "text        8\n",
      "emotion     0\n",
      "language    0\n",
      "dtype: int64\n",
      "\n",
      "Missing values in df_test:\n",
      "text        1\n",
      "emotion     0\n",
      "language    0\n",
      "dtype: int64\n"
     ]
    }
   ],
   "source": [
    "# Check for missing values in train dataset\n",
    "missing_values_train = df_train.isnull().sum()\n",
    "print(\"Missing values in df_train:\")\n",
    "print(missing_values_train)\n",
    "\n",
    "# Check for missing values in test dataset\n",
    "missing_values_test = df_test.isnull().sum()\n",
    "print(\"\\nMissing values in df_test:\")\n",
    "print(missing_values_test)\n"
   ]
  },
  {
   "cell_type": "code",
   "execution_count": 6,
   "metadata": {},
   "outputs": [],
   "source": [
    "df_train.dropna(inplace=True)\n",
    "df_test.dropna(inplace=True)"
   ]
  },
  {
   "cell_type": "code",
   "execution_count": 7,
   "metadata": {},
   "outputs": [
    {
     "name": "stderr",
     "output_type": "stream",
     "text": [
      "C:\\Users\\Sayantan Datta\\AppData\\Local\\Temp\\ipykernel_193028\\1466508722.py:5: FutureWarning: \n",
      "\n",
      "Passing `palette` without assigning `hue` is deprecated and will be removed in v0.14.0. Assign the `x` variable to `hue` and set `legend=False` for the same effect.\n",
      "\n",
      "  sns.barplot(x=language_counts.index, y=language_counts.values, palette=\"viridis\")\n"
     ]
    },
    {
     "data": {
      "image/png": "[encoded data removed]",
      "text/plain": [
       "<Figure size 1000x600 with 1 Axes>"
      ]
     },
     "metadata": {},
     "output_type": "display_data"
    }
   ],
   "source": [
    "# Calculate language counts in df_train\n",
    "language_counts = df_train['language'].value_counts()\n",
    "\n",
    "plt.figure(figsize=(10, 6))\n",
    "sns.barplot(x=language_counts.index, y=language_counts.values, palette=\"viridis\")\n",
    "plt.title('Language Counts in df_train')\n",
    "plt.xlabel('Language')\n",
    "plt.ylabel('Count')\n",
    "plt.tight_layout()\n",
    "plt.show()"
   ]
  },
  {
   "cell_type": "code",
   "execution_count": 8,
   "metadata": {},
   "outputs": [
    {
     "name": "stdout",
     "output_type": "stream",
     "text": [
      "Exported 73237 rows to datasets/train.tsv\n",
      "Exported 1617 test rows for Greek to datasets/test_by_language/greek_test.tsv\n",
      "Exported 3506 test rows for English to datasets/test_by_language/english_test.tsv\n",
      "Exported 2460 test rows for Brazilian to datasets/test_by_language/brazilian_test.tsv\n",
      "Exported 1303 test rows for Czech to datasets/test_by_language/czech_test.tsv\n",
      "Exported 1462 test rows for French to datasets/test_by_language/french_test.tsv\n",
      "Exported 1436 test rows for Polish to datasets/test_by_language/polish_test.tsv\n",
      "Exported 1444 test rows for Portuguese to datasets/test_by_language/portuguese_test.tsv\n",
      "Exported 1895 test rows for Romanian to datasets/test_by_language/romanian_test.tsv\n",
      "Exported 1797 test rows for Serbian to datasets/test_by_language/serbian_test.tsv\n",
      "Exported 1395 test rows for Bulgarian to datasets/test_by_language/bulgarian_test.tsv\n",
      "Export complete!\n"
     ]
    }
   ],
   "source": [
    "# Export the entire training set as one file\n",
    "df_train.to_csv('datasets/train.tsv', sep='\\t', index=False)\n",
    "print(f\"Exported {len(df_train)} rows to datasets/train.tsv\")\n",
    "\n",
    "# Create a directory for the test files by language (if it doesn't exist)\n",
    "test_dir = 'datasets/test_by_language'\n",
    "os.makedirs(test_dir, exist_ok=True)\n",
    "\n",
    "# Export separate test files for each language\n",
    "for language in df_test['language'].unique():\n",
    "    # Filter test data by language\n",
    "    lang_test = df_test[df_test['language'] == language]\n",
    "    \n",
    "    # Create a clean filename (lowercase, replace spaces with underscores)\n",
    "    filename = language.lower().replace(' ', '_')\n",
    "    output_path = f\"{test_dir}/{filename}_test.tsv\"\n",
    "    \n",
    "    # Export to TSV\n",
    "    lang_test.to_csv(output_path, sep='\\t', index=False)\n",
    "    print(f\"Exported {len(lang_test)} test rows for {language} to {output_path}\")\n",
    "\n",
    "print(\"Export complete!\")"
   ]
  },
  {
   "cell_type": "code",
   "execution_count": 9,
   "metadata": {},
   "outputs": [
    {
     "name": "stderr",
     "output_type": "stream",
     "text": [
      "C:\\Users\\Sayantan Datta\\AppData\\Local\\Temp\\ipykernel_193028\\2700578742.py:40: FutureWarning: \n",
      "\n",
      "Passing `palette` without assigning `hue` is deprecated and will be removed in v0.14.0. Assign the `x` variable to `hue` and set `legend=False` for the same effect.\n",
      "\n",
      "  sns.barplot(x=\"emotion\", y=\"count\", data=emotion_df, palette=\"viridis\")\n"
     ]
    },
    {
     "data": {
      "image/png": "[encoded data removed]",
      "text/plain": [
       "<Figure size 1000x600 with 1 Axes>"
      ]
     },
     "metadata": {},
     "output_type": "display_data"
    }
   ],
   "source": [
    "import pandas as pd\n",
    "import matplotlib.pyplot as plt\n",
    "import seaborn as sns\n",
    "from collections import Counter\n",
    "\n",
    "# Define mapping from emotion code to emotion label\n",
    "emotion_mapping = {\n",
    "    \"0\": \"neutral\",\n",
    "    \"1\": \"anger\",\n",
    "    \"2\": \"anticipation\",\n",
    "    \"3\": \"disgust\",\n",
    "    \"4\": \"fear\",\n",
    "    \"5\": \"joy\",\n",
    "    \"6\": \"sadness\",\n",
    "    \"7\": \"surprise\",\n",
    "    \"8\": \"trust\"\n",
    "}\n",
    "\n",
    "# Initialize a counter for emotions\n",
    "emotion_counter = Counter()\n",
    "\n",
    "# Iterate over each row in the training data\n",
    "for idx, row in df_train.iterrows():\n",
    "    # Get the emotion value as string\n",
    "    em_str = str(row[\"emotion\"]).strip()\n",
    "    if not em_str:\n",
    "        continue\n",
    "    # Split by comma to get multiple emotion codes if present\n",
    "    emotion_numbers = [token.strip() for token in em_str.split(',')]\n",
    "    for num in emotion_numbers:\n",
    "        label = emotion_mapping.get(num)\n",
    "        if label:\n",
    "            emotion_counter[label] += 1\n",
    "\n",
    "# Convert the counter to a DataFrame for easier plotting\n",
    "emotion_df = pd.DataFrame(list(emotion_counter.items()), columns=['emotion', 'count'])\n",
    "emotion_df = emotion_df.sort_values('emotion')\n",
    "\n",
    "plt.figure(figsize=(10, 6))\n",
    "sns.barplot(x=\"emotion\", y=\"count\", data=emotion_df, palette=\"viridis\")\n",
    "plt.title(\"Overall Emotion Counts\")\n",
    "plt.xlabel(\"Emotion\")\n",
    "plt.ylabel(\"Count\")\n",
    "plt.tight_layout()\n",
    "plt.show()"
   ]
  },
  {
   "cell_type": "code",
   "execution_count": null,
   "metadata": {},
   "outputs": [
    {
     "name": "stdout",
     "output_type": "stream",
     "text": [
      "Exported 73237 rows to datasets/train.tsv\n",
      "Exported 1617 test rows for Greek to datasets/test_by_language/greek_test.tsv\n",
      "Exported 3506 test rows for English to datasets/test_by_language/english_test.tsv\n",
      "Exported 2460 test rows for Brazilian to datasets/test_by_language/brazilian_test.tsv\n",
      "Exported 1303 test rows for Czech to datasets/test_by_language/czech_test.tsv\n",
      "Exported 1462 test rows for French to datasets/test_by_language/french_test.tsv\n",
      "Exported 1436 test rows for Polish to datasets/test_by_language/polish_test.tsv\n",
      "Exported 1444 test rows for Portuguese to datasets/test_by_language/portuguese_test.tsv\n",
      "Exported 1895 test rows for Romanian to datasets/test_by_language/romanian_test.tsv\n",
      "Exported 1797 test rows for Serbian to datasets/test_by_language/serbian_test.tsv\n",
      "Exported 1395 test rows for Bulgarian to datasets/test_by_language/bulgarian_test.tsv\n",
      "Export complete!\n"
     ]
    }
   ],
   "source": [
    "# Export the entire training set as one file\n",
    "df_train.to_csv('datasets/train.tsv', sep='\\t', index=False)\n",
    "print(f\"Exported {len(df_train)} rows to datasets/train.tsv\")\n"
   ]
  },
  {
   "cell_type": "code",
   "execution_count": 10,
   "metadata": {},
   "outputs": [
    {
     "name": "stdout",
     "output_type": "stream",
     "text": [
      "Exported 18315 rows to datasets/test.tsv\n",
      "Export complete!\n"
     ]
    }
   ],
   "source": [
    "# Export the entire test set as one file\n",
    "df_test.to_csv('datasets/test.tsv', sep='\\t', index=False)\n",
    "print(f\"Exported {len(df_test)} rows to datasets/test.tsv\")\n",
    "print(\"Export complete!\")"
   ]
  },
  {
   "cell_type": "code",
   "execution_count": null,
   "metadata": {},
   "outputs": [],
   "source": []
  }
 ],
 "metadata": {
  "kernelspec": {
   "display_name": "emo_detect",
   "language": "python",
   "name": "python3"
  },
  "language_info": {
   "codemirror_mode": {
    "name": "ipython",
    "version": 3
   },
   "file_extension": ".py",
   "mimetype": "text/x-python",
   "name": "python",
   "nbconvert_exporter": "python",
   "pygments_lexer": "ipython3",
   "version": "3.12.7"
  }
 },
 "nbformat": 4,
 "nbformat_minor": 2
}
