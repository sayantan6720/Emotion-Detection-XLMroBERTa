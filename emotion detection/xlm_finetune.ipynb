{
 "cells": [
  {
   "cell_type": "markdown",
   "metadata": {},
   "source": [
    "# Importing necessary libraries"
   ]
  },
  {
   "cell_type": "code",
   "execution_count": 3,
   "metadata": {},
   "outputs": [],
   "source": [
    "import modal\n",
    "import torch\n",
    "import numpy as np\n",
    "import pandas as pd\n",
    "from transformers import (\n",
    "    XLMRobertaTokenizer, \n",
    "    XLMRobertaForSequenceClassification, \n",
    "    Trainer, \n",
    "    TrainingArguments,\n",
    "    DataCollatorWithPadding\n",
    ")\n",
    "from peft import (\n",
    "    get_peft_model,\n",
    "    LoraConfig,\n",
    "    TaskType\n",
    ")\n",
    "import os\n",
    "import json\n",
    "from tqdm import tqdm\n",
    "from datasets import Dataset\n",
    "from sklearn.preprocessing import MultiLabelBinarizer\n",
    "from sklearn.metrics import f1_score, classification_report\n",
    "from torch.utils.data import DataLoader"
   ]
  },
  {
   "cell_type": "code",
   "execution_count": 4,
   "metadata": {},
   "outputs": [],
   "source": [
    "app = modal.App(\"xlm-finetune\")\n",
    "\n",
    "image1 = (modal.Image.debian_slim()\n",
    "         .pip_install(\"pandas\",\n",
    "                      \"torch\",\n",
    "                      \"transformers\",\n",
    "                      \"peft\",\n",
    "                      \"tqdm\",\n",
    "                      \"numpy\",\n",
    "                      \"datasets\",\n",
    "                      \"scikit-learn\",\n",
    "                      \"sentencepiece\"))\n",
    "\n",
    "image2 = (modal.Image.debian_slim()\n",
    "         .pip_install(\"pandas\")\n",
    "         .add_local_file(\"datasets/train.tsv\", remote_path=\"/root/train.tsv\")\n",
    "         .add_local_file(\"datasets/test.tsv\", remote_path=\"/root/test.tsv\"))\n",
    "         \n",
    "\n",
    "         "
   ]
  },
  {
   "cell_type": "code",
   "execution_count": 5,
   "metadata": {},
   "outputs": [],
   "source": [
    "@app.function(gpu='A100-80GB', image=image1, timeout=18000)\n",
    "def train_and_evaluate(df_train, df_test):\n",
    "    # Process emotion labels\n",
    "    def process_emotions(emotion_str):\n",
    "        if isinstance(emotion_str, str):\n",
    "            emotions = [int(e.strip()) for e in emotion_str.split(',')]\n",
    "            return emotions\n",
    "        return [emotion_str]\n",
    "    \n",
    "    df_train['emotion_list'] = df_train['emotion'].apply(process_emotions)\n",
    "    \n",
    "    # One-hot encode the emotion labels\n",
    "    mlb = MultiLabelBinarizer()\n",
    "    emotion_encoded = mlb.fit_transform(df_train['emotion_list'])\n",
    "    num_labels = len(mlb.classes_)\n",
    "    print(f\"Number of emotion classes: {num_labels}\")\n",
    "    \n",
    "    # Split data\n",
    "    train_indices = []\n",
    "    val_indices = []\n",
    "    \n",
    "    for language, group_indices in df_train.groupby('language').groups.items():\n",
    "        indices = list(group_indices)\n",
    "        np.random.seed(42)\n",
    "        np.random.shuffle(indices)\n",
    "        split_idx = int(len(indices) * 0.85)\n",
    "        train_indices.extend(indices[:split_idx])\n",
    "        val_indices.extend(indices[split_idx:])\n",
    "    \n",
    "    train_df = df_train.iloc[train_indices].reset_index(drop=True)\n",
    "    val_df = df_train.iloc[val_indices].reset_index(drop=True)\n",
    "    \n",
    "    print(f\"Total examples: {len(df_train)}\")\n",
    "    print(f\"Training examples: {len(train_df)}\")\n",
    "    print(f\"Validation examples: {len(val_df)}\")\n",
    "    \n",
    "    # Load model and tokenizer\n",
    "    model = XLMRobertaForSequenceClassification.from_pretrained(\n",
    "        \"xlm-roberta-base\",\n",
    "        num_labels=num_labels,\n",
    "        problem_type=\"multi_label_classification\"\n",
    "    )\n",
    "    tokenizer = XLMRobertaTokenizer.from_pretrained(\"xlm-roberta-base\")\n",
    "    \n",
    "    # Prepare datasets\n",
    "    train_df[\"labels\"] = train_df[\"emotion_list\"].apply(\n",
    "        lambda x: [1.0 if i in x else 0.0 for i in range(num_labels)]\n",
    "    )\n",
    "    val_df[\"labels\"] = val_df[\"emotion_list\"].apply(\n",
    "        lambda x: [1.0 if i in x else 0.0 for i in range(num_labels)]\n",
    "    )\n",
    "    \n",
    "    train_dataset = Dataset.from_pandas(train_df)\n",
    "    val_dataset = Dataset.from_pandas(val_df)\n",
    "    \n",
    "    def tokenize_function(examples):\n",
    "        texts = [str(t) for t in examples[\"text\"]]\n",
    "        return tokenizer(texts, padding=\"max_length\", truncation=True, max_length=128)\n",
    "    \n",
    "    train_dataset = train_dataset.map(tokenize_function, batched=True)\n",
    "    val_dataset = val_dataset.map(tokenize_function, batched=True)\n",
    "    \n",
    "    # Configure LoRA\n",
    "    lora_config = LoraConfig(\n",
    "        task_type=TaskType.SEQ_CLS,\n",
    "        r=16,\n",
    "        lora_alpha=32,\n",
    "        lora_dropout=0.1,\n",
    "        bias=\"none\",\n",
    "        target_modules=[\"query\", \"key\", \"value\"]\n",
    "    )\n",
    "    \n",
    "    model = get_peft_model(model, lora_config)\n",
    "    model.print_trainable_parameters()\n",
    "    \n",
    "    # Custom data collator\n",
    "    class MultiLabelDataCollator(DataCollatorWithPadding):\n",
    "        def __call__(self, features):\n",
    "            batch = super().__call__(features)\n",
    "            if \"labels\" in batch:\n",
    "                batch[\"labels\"] = torch.tensor(batch[\"labels\"], dtype=torch.float32)\n",
    "            return batch\n",
    "    \n",
    "    # Training arguments\n",
    "    training_args = TrainingArguments(\n",
    "        output_dir=\"./results\",\n",
    "        learning_rate=2e-5,\n",
    "        per_device_train_batch_size=16,\n",
    "        per_device_eval_batch_size=16,\n",
    "        num_train_epochs=5,\n",
    "        weight_decay=0.01,\n",
    "        eval_strategy=\"epoch\",\n",
    "        save_strategy=\"epoch\",\n",
    "        load_best_model_at_end=True,\n",
    "        fp16=False,  # Disable mixed precision to avoid serialization issues\n",
    "        logging_strategy=\"epoch\",\n",
    "        logging_dir=\"./logs\",\n",
    "        report_to=\"none\",\n",
    "        disable_tqdm=True,\n",
    "        logging_steps=1000,\n",
    "    )\n",
    "    \n",
    "    # Initialize trainer\n",
    "    trainer = Trainer(\n",
    "        model=model,\n",
    "        args=training_args,\n",
    "        train_dataset=train_dataset,\n",
    "        eval_dataset=val_dataset,\n",
    "        data_collator=MultiLabelDataCollator(tokenizer=tokenizer),\n",
    "    )\n",
    "    \n",
    "    # Train the model\n",
    "    print(\"Training model...\")\n",
    "    trainer.train()\n",
    "    \n",
    "    # EVALUATION PART\n",
    "    print(\"\\n===== EVALUATING MODEL =====\")\n",
    "    \n",
    "    # Load test data\n",
    "    print(\"Loading test data...\")\n",
    "    df_test['emotion_list'] = df_test['emotion'].apply(process_emotions)\n",
    "    \n",
    "    # Use same MultiLabelBinarizer for consistency\n",
    "    test_emotion_encoded = mlb.transform(df_test['emotion_list'])\n",
    "    df_test[\"labels\"] = list(test_emotion_encoded)\n",
    "    \n",
    "    # Convert to Dataset and tokenize\n",
    "    test_dataset = Dataset.from_pandas(df_test)\n",
    "    test_dataset = test_dataset.map(tokenize_function, batched=True)\n",
    "    \n",
    "    # Prediction function\n",
    "    def get_predictions(dataset):\n",
    "        all_preds = []\n",
    "        all_labels = []\n",
    "    \n",
    "    # Create a custom collate function that handles the text properly\n",
    "        def collate_fn(batch):\n",
    "            # Extract text and ensure it's a string\n",
    "            texts = [str(item['text']) for item in batch]\n",
    "            # Tokenize with explicit padding and truncation\n",
    "            inputs = tokenizer(\n",
    "                texts, \n",
    "                padding='max_length',\n",
    "                truncation=True,\n",
    "                max_length=128,\n",
    "                return_tensors='pt'\n",
    "            )\n",
    "            # Add labels\n",
    "            if 'labels' in batch[0]:\n",
    "                inputs['labels'] = torch.tensor([item['labels'] for item in batch], dtype=torch.float32)\n",
    "            return inputs\n",
    "        \n",
    "        # Use the custom collate function\n",
    "        dataloader = DataLoader(\n",
    "            dataset, \n",
    "            batch_size=16, \n",
    "            collate_fn=collate_fn\n",
    "        )\n",
    "        \n",
    "        device = torch.device(\"cuda\" if torch.cuda.is_available() else \"cpu\")\n",
    "        model.to(device)\n",
    "        model.eval()\n",
    "        \n",
    "        with torch.no_grad():\n",
    "            for batch in dataloader:\n",
    "                batch = {k: v.to(device) if isinstance(v, torch.Tensor) else v for k, v in batch.items()}\n",
    "                outputs = model(**{k: v for k, v in batch.items() if k in ['input_ids', 'attention_mask']})\n",
    "                logits = outputs.logits\n",
    "                preds = (torch.sigmoid(logits) > 0.5).float().cpu().numpy()\n",
    "                labels = batch[\"labels\"].cpu().numpy()\n",
    "                all_preds.extend(preds)\n",
    "                all_labels.extend(labels)\n",
    "        \n",
    "        return np.array(all_preds), np.array(all_labels)\n",
    "        \n",
    "    # Get predictions\n",
    "    print(\"Running predictions...\")\n",
    "    predictions, true_labels = get_predictions(test_dataset)\n",
    "    \n",
    "    # Calculate overall F1 scores\n",
    "    f1_micro = f1_score(true_labels, predictions, average='micro')\n",
    "    f1_macro = f1_score(true_labels, average='macro', y_pred=predictions)\n",
    "    f1_weighted = f1_score(true_labels, average='weighted', y_pred=predictions)\n",
    "    \n",
    "    print(\"\\n===== OVERALL F1 SCORES =====\")\n",
    "    print(f\"Micro F1: {f1_micro:.4f}\")\n",
    "    print(f\"Macro F1: {f1_macro:.4f}\")\n",
    "    print(f\"Weighted F1: {f1_weighted:.4f}\")\n",
    "    \n",
    "    # Calculate F1 scores by language\n",
    "    languages = df_test['language'].unique()\n",
    "    print(\"\\n===== F1 SCORES BY LANGUAGE =====\")\n",
    "    \n",
    "    language_results = {}\n",
    "    for lang in languages:\n",
    "        lang_indices = df_test[df_test['language'] == lang].index.tolist()\n",
    "        \n",
    "        if len(lang_indices) < 5:\n",
    "            continue\n",
    "            \n",
    "        lang_preds = predictions[lang_indices]\n",
    "        lang_true = true_labels[lang_indices]\n",
    "        \n",
    "        try:\n",
    "            lang_f1_micro = f1_score(lang_true, lang_preds, average='micro')\n",
    "            lang_f1_macro = f1_score(lang_true, lang_preds, average='macro')\n",
    "            lang_f1_weighted = f1_score(lang_true, lang_preds, average='weighted')\n",
    "            \n",
    "            print(f\"\\nLanguage: {lang} (Examples: {len(lang_indices)})\")\n",
    "            print(f\"  Micro F1: {lang_f1_micro:.4f}\")\n",
    "            print(f\"  Macro F1: {lang_f1_macro:.4f}\")\n",
    "            print(f\"  Weighted F1: {lang_f1_weighted:.4f}\")\n",
    "            \n",
    "            language_results[lang] = {\n",
    "                'micro_f1': lang_f1_micro,\n",
    "                'macro_f1': lang_f1_macro,\n",
    "                'weighted_f1': lang_f1_weighted,\n",
    "                'examples': len(lang_indices)\n",
    "            }\n",
    "        except Exception as e:\n",
    "            print(f\"Error calculating F1 for language {lang}: {e}\")\n",
    "    \n",
    "    # Return results\n",
    "    results = {\n",
    "        'overall': {\n",
    "            'micro_f1': float(f1_micro),\n",
    "            'macro_f1': float(f1_macro),\n",
    "            'weighted_f1': float(f1_weighted)\n",
    "        },\n",
    "        'by_language': language_results\n",
    "    }\n",
    "    \n",
    "    return results"
   ]
  },
  {
   "cell_type": "code",
   "execution_count": 6,
   "metadata": {},
   "outputs": [],
   "source": [
    "# Define the function to read the dataset\n",
    "@app.function(image=image2)\n",
    "def tsv_to_df(path):\n",
    "    df = pd.read_csv(path, sep='\\t')\n",
    "    return df\n",
    "\n"
   ]
  },
  {
   "cell_type": "code",
   "execution_count": 7,
   "metadata": {},
   "outputs": [
    {
     "data": {
      "text/html": [
       "<pre style=\"white-space:pre;overflow-x:auto;line-height:normal;font-family:Menlo,'DejaVu Sans Mono',consolas,'Courier New',monospace\">c:\\Users\\Sayantan Datta\\anaconda3\\envs\\emo_detect\\Lib\\site-packages\\rich\\live.py:231: UserWarning: install \n",
       "\"ipywidgets\" for Jupyter support\n",
       "  warnings.warn('install \"ipywidgets\" for Jupyter support')\n",
       "</pre>\n"
      ],
      "text/plain": [
       "c:\\Users\\Sayantan Datta\\anaconda3\\envs\\emo_detect\\Lib\\site-packages\\rich\\live.py:231: UserWarning: install \n",
       "\"ipywidgets\" for Jupyter support\n",
       "  warnings.warn('install \"ipywidgets\" for Jupyter support')\n"
      ]
     },
     "metadata": {},
     "output_type": "display_data"
    },
    {
     "data": {
      "text/html": [
       "<pre style=\"white-space:pre;overflow-x:auto;line-height:normal;font-family:Menlo,'DejaVu Sans Mono',consolas,'Courier New',monospace\"><span style=\"color: #008000; text-decoration-color: #008000\">✓</span> Initialized. <span style=\"color: #b2b2b2; text-decoration-color: #b2b2b2\">View run at </span><span style=\"color: #b2b2b2; text-decoration-color: #b2b2b2; text-decoration: underline\">https://modal.com/apps/sayantan6720/main/ap-X1IKIcmUQIIgjkStIiht9G</span>\n",
       "</pre>\n"
      ],
      "text/plain": [
       "\u001b[32m✓\u001b[0m Initialized. \u001b[38;5;249mView run at \u001b[0m\u001b[4;38;5;249mhttps://modal.com/apps/sayantan6720/main/ap-X1IKIcmUQIIgjkStIiht9G\u001b[0m\n"
      ]
     },
     "metadata": {},
     "output_type": "display_data"
    },
    {
     "data": {
      "text/html": [
       "<pre style=\"white-space:pre;overflow-x:auto;line-height:normal;font-family:Menlo,'DejaVu Sans Mono',consolas,'Courier New',monospace\"></pre>\n"
      ],
      "text/plain": []
     },
     "metadata": {},
     "output_type": "display_data"
    },
    {
     "data": {
      "text/html": [
       "<pre style=\"white-space:pre;overflow-x:auto;line-height:normal;font-family:Menlo,'DejaVu Sans Mono',consolas,'Courier New',monospace\"></pre>\n"
      ],
      "text/plain": []
     },
     "metadata": {},
     "output_type": "display_data"
    },
    {
     "data": {
      "text/html": [
       "<pre style=\"white-space:pre;overflow-x:auto;line-height:normal;font-family:Menlo,'DejaVu Sans Mono',consolas,'Courier New',monospace\"><span style=\"color: #008000; text-decoration-color: #008000\">✓</span> Created objects.\n",
       "<span style=\"color: #808080; text-decoration-color: #808080\">├── </span>🔨 Created mount datasets\\test.tsv\n",
       "<span style=\"color: #808080; text-decoration-color: #808080\">├── </span>🔨 Created mount datasets\\train.tsv\n",
       "<span style=\"color: #808080; text-decoration-color: #808080\">├── </span>🔨 Created function train_and_evaluate.\n",
       "<span style=\"color: #808080; text-decoration-color: #808080\">└── </span>🔨 Created function tsv_to_df.\n",
       "</pre>\n"
      ],
      "text/plain": [
       "\u001b[32m✓\u001b[0m Created objects.\n",
       "\u001b[38;5;244m├── \u001b[0m🔨 Created mount datasets\\test.tsv\n",
       "\u001b[38;5;244m├── \u001b[0m🔨 Created mount datasets\\train.tsv\n",
       "\u001b[38;5;244m├── \u001b[0m🔨 Created function train_and_evaluate.\n",
       "\u001b[38;5;244m└── \u001b[0m🔨 Created function tsv_to_df.\n"
      ]
     },
     "metadata": {},
     "output_type": "display_data"
    },
    {
     "data": {
      "text/html": [
       "<pre style=\"white-space:pre;overflow-x:auto;line-height:normal;font-family:Menlo,'DejaVu Sans Mono',consolas,'Courier New',monospace\">c:\\Users\\Sayantan Datta\\anaconda3\\envs\\emo_detect\\Lib\\site-packages\\rich\\live.py:231: UserWarning: install \n",
       "\"ipywidgets\" for Jupyter support\n",
       "  warnings.warn('install \"ipywidgets\" for Jupyter support')\n",
       "</pre>\n"
      ],
      "text/plain": [
       "c:\\Users\\Sayantan Datta\\anaconda3\\envs\\emo_detect\\Lib\\site-packages\\rich\\live.py:231: UserWarning: install \n",
       "\"ipywidgets\" for Jupyter support\n",
       "  warnings.warn('install \"ipywidgets\" for Jupyter support')\n"
      ]
     },
     "metadata": {},
     "output_type": "display_data"
    },
    {
     "data": {
      "text/html": [
       "<pre style=\"white-space:pre;overflow-x:auto;line-height:normal;font-family:Menlo,'DejaVu Sans Mono',consolas,'Courier New',monospace\">c:\\Users\\Sayantan Datta\\anaconda3\\envs\\emo_detect\\Lib\\site-packages\\rich\\live.py:231: UserWarning: install \n",
       "\"ipywidgets\" for Jupyter support\n",
       "  warnings.warn('install \"ipywidgets\" for Jupyter support')\n",
       "</pre>\n"
      ],
      "text/plain": [
       "c:\\Users\\Sayantan Datta\\anaconda3\\envs\\emo_detect\\Lib\\site-packages\\rich\\live.py:231: UserWarning: install \n",
       "\"ipywidgets\" for Jupyter support\n",
       "  warnings.warn('install \"ipywidgets\" for Jupyter support')\n"
      ]
     },
     "metadata": {},
     "output_type": "display_data"
    },
    {
     "data": {
      "text/html": [
       "<pre style=\"white-space:pre;overflow-x:auto;line-height:normal;font-family:Menlo,'DejaVu Sans Mono',consolas,'Courier New',monospace\"><span style=\"color: #000080; text-decoration-color: #000080\"></span></pre>\n"
      ],
      "text/plain": []
     },
     "metadata": {},
     "output_type": "display_data"
    },
    {
     "data": {
      "text/html": [
       "<pre style=\"white-space:pre;overflow-x:auto;line-height:normal;font-family:Menlo,'DejaVu Sans Mono',consolas,'Courier New',monospace\"><span style=\"color: #000080; text-decoration-color: #000080\">Number of emotion classes: 8\n",
       "</span></pre>\n"
      ],
      "text/plain": [
       "\u001b[34mNumber of emotion classes: 8\n",
       "\u001b[0m"
      ]
     },
     "metadata": {},
     "output_type": "display_data"
    },
    {
     "data": {
      "text/html": [
       "<pre style=\"white-space:pre;overflow-x:auto;line-height:normal;font-family:Menlo,'DejaVu Sans Mono',consolas,'Courier New',monospace\"><span style=\"color: #000080; text-decoration-color: #000080\"></span></pre>\n"
      ],
      "text/plain": []
     },
     "metadata": {},
     "output_type": "display_data"
    },
    {
     "data": {
      "text/html": [
       "<pre style=\"white-space:pre;overflow-x:auto;line-height:normal;font-family:Menlo,'DejaVu Sans Mono',consolas,'Courier New',monospace\"><span style=\"color: #000080; text-decoration-color: #000080\">Total examples: 73237\n",
       "Training examples: 62247\n",
       "Validation examples: 10990\n",
       "</span></pre>\n"
      ],
      "text/plain": [
       "\u001b[34mTotal examples: 73237\n",
       "Training examples: 62247\n",
       "Validation examples: 10990\n",
       "\u001b[0m"
      ]
     },
     "metadata": {},
     "output_type": "display_data"
    },
    {
     "data": {
      "text/html": [
       "<pre style=\"white-space:pre;overflow-x:auto;line-height:normal;font-family:Menlo,'DejaVu Sans Mono',consolas,'Courier New',monospace\"><span style=\"color: #800000; text-decoration-color: #800000\">Xet Storage is enabled for this repo, but the 'hf_xet' package is not installed. Falling back to regular HTTP download. For better performance, install the package with: `pip install huggingface_hub[hf_xet]` or `pip install hf_xet`\n",
       "</span></pre>\n"
      ],
      "text/plain": [
       "\u001b[31mXet Storage is enabled for this repo, but the 'hf_xet' package is not installed. Falling back to regular HTTP download. For better performance, install the package with: `pip install huggingface_hub[hf_xet]` or `pip install hf_xet`\n",
       "\u001b[0m"
      ]
     },
     "metadata": {},
     "output_type": "display_data"
    },
    {
     "data": {
      "text/html": [
       "<pre style=\"white-space:pre;overflow-x:auto;line-height:normal;font-family:Menlo,'DejaVu Sans Mono',consolas,'Courier New',monospace\"><span style=\"color: #800000; text-decoration-color: #800000\">Some weights of XLMRobertaForSequenceClassification were not initialized from the model checkpoint at xlm-roberta-base and are newly initialized: ['classifier.dense.bias', 'classifier.dense.weight', 'classifier.out_proj.bias', 'classifier.out_proj.weight']\n",
       "You should probably TRAIN this model on a down-stream task to be able to use it for predictions and inference.\n",
       "</span></pre>\n"
      ],
      "text/plain": [
       "\u001b[31mSome weights of XLMRobertaForSequenceClassification were not initialized from the model checkpoint at xlm-roberta-base and are newly initialized: ['classifier.dense.bias', 'classifier.dense.weight', 'classifier.out_proj.bias', 'classifier.out_proj.weight']\n",
       "You should probably TRAIN this model on a down-stream task to be able to use it for predictions and inference.\n",
       "\u001b[0m"
      ]
     },
     "metadata": {},
     "output_type": "display_data"
    },
    {
     "data": {
      "text/html": [
       "<pre style=\"white-space:pre;overflow-x:auto;line-height:normal;font-family:Menlo,'DejaVu Sans Mono',consolas,'Courier New',monospace\"><span style=\"color: #800000; text-decoration-color: #800000\">\n",
       "</span></pre>\n"
      ],
      "text/plain": [
       "\u001b[31m\n",
       "\u001b[0m"
      ]
     },
     "metadata": {},
     "output_type": "display_data"
    },
    {
     "data": {
      "text/html": [
       "<pre style=\"white-space:pre;overflow-x:auto;line-height:normal;font-family:Menlo,'DejaVu Sans Mono',consolas,'Courier New',monospace\"><span style=\"color: #800000; text-decoration-color: #800000\">\u001b[1AMap:   0%|          | 0/62247 [00:00&lt;?, ? examples/s]\n",
       "</span></pre>\n"
      ],
      "text/plain": [
       "\u001b[31m\u001b[1AMap:   0%|          | 0/62247 [00:00<?, ? examples/s]\n",
       "\u001b[0m"
      ]
     },
     "metadata": {},
     "output_type": "display_data"
    },
    {
     "data": {
      "text/html": [
       "<pre style=\"white-space:pre;overflow-x:auto;line-height:normal;font-family:Menlo,'DejaVu Sans Mono',consolas,'Courier New',monospace\"><span style=\"color: #800000; text-decoration-color: #800000\">\u001b[1AMap:   2%|▏         | 1000/62247 [00:00&lt;00:07, 7951.06 examples/s]\n",
       "</span></pre>\n"
      ],
      "text/plain": [
       "\u001b[31m\u001b[1AMap:   2%|▏         | 1000/62247 [00:00<00:07, 7951.06 examples/s]\n",
       "\u001b[0m"
      ]
     },
     "metadata": {},
     "output_type": "display_data"
    },
    {
     "data": {
      "text/html": [
       "<pre style=\"white-space:pre;overflow-x:auto;line-height:normal;font-family:Menlo,'DejaVu Sans Mono',consolas,'Courier New',monospace\"><span style=\"color: #800000; text-decoration-color: #800000\">\u001b[1AMap:   3%|▎         | 2000/62247 [00:00&lt;00:07, 8222.02 examples/s]\n",
       "</span></pre>\n"
      ],
      "text/plain": [
       "\u001b[31m\u001b[1AMap:   3%|▎         | 2000/62247 [00:00<00:07, 8222.02 examples/s]\n",
       "\u001b[0m"
      ]
     },
     "metadata": {},
     "output_type": "display_data"
    },
    {
     "data": {
      "text/html": [
       "<pre style=\"white-space:pre;overflow-x:auto;line-height:normal;font-family:Menlo,'DejaVu Sans Mono',consolas,'Courier New',monospace\"><span style=\"color: #800000; text-decoration-color: #800000\">\u001b[1AMap:   5%|▍         | 3000/62247 [00:00&lt;00:07, 8356.16 examples/s]\n",
       "</span></pre>\n"
      ],
      "text/plain": [
       "\u001b[31m\u001b[1AMap:   5%|▍         | 3000/62247 [00:00<00:07, 8356.16 examples/s]\n",
       "\u001b[0m"
      ]
     },
     "metadata": {},
     "output_type": "display_data"
    },
    {
     "data": {
      "text/html": [
       "<pre style=\"white-space:pre;overflow-x:auto;line-height:normal;font-family:Menlo,'DejaVu Sans Mono',consolas,'Courier New',monospace\"><span style=\"color: #800000; text-decoration-color: #800000\">\u001b[1AMap:   6%|▋         | 4000/62247 [00:00&lt;00:06, 8354.67 examples/s]\n",
       "</span></pre>\n"
      ],
      "text/plain": [
       "\u001b[31m\u001b[1AMap:   6%|▋         | 4000/62247 [00:00<00:06, 8354.67 examples/s]\n",
       "\u001b[0m"
      ]
     },
     "metadata": {},
     "output_type": "display_data"
    },
    {
     "data": {
      "text/html": [
       "<pre style=\"white-space:pre;overflow-x:auto;line-height:normal;font-family:Menlo,'DejaVu Sans Mono',consolas,'Courier New',monospace\"><span style=\"color: #800000; text-decoration-color: #800000\">\u001b[1AMap:   8%|▊         | 5000/62247 [00:00&lt;00:06, 8425.58 examples/s]\n",
       "</span></pre>\n"
      ],
      "text/plain": [
       "\u001b[31m\u001b[1AMap:   8%|▊         | 5000/62247 [00:00<00:06, 8425.58 examples/s]\n",
       "\u001b[0m"
      ]
     },
     "metadata": {},
     "output_type": "display_data"
    },
    {
     "data": {
      "text/html": [
       "<pre style=\"white-space:pre;overflow-x:auto;line-height:normal;font-family:Menlo,'DejaVu Sans Mono',consolas,'Courier New',monospace\"><span style=\"color: #800000; text-decoration-color: #800000\">\u001b[1AMap:  10%|▉         | 6000/62247 [00:00&lt;00:06, 8244.02 examples/s]\n",
       "</span></pre>\n"
      ],
      "text/plain": [
       "\u001b[31m\u001b[1AMap:  10%|▉         | 6000/62247 [00:00<00:06, 8244.02 examples/s]\n",
       "\u001b[0m"
      ]
     },
     "metadata": {},
     "output_type": "display_data"
    },
    {
     "data": {
      "text/html": [
       "<pre style=\"white-space:pre;overflow-x:auto;line-height:normal;font-family:Menlo,'DejaVu Sans Mono',consolas,'Courier New',monospace\"><span style=\"color: #800000; text-decoration-color: #800000\">\u001b[1AMap:  11%|█         | 7000/62247 [00:00&lt;00:06, 8329.47 examples/s]\n",
       "</span></pre>\n"
      ],
      "text/plain": [
       "\u001b[31m\u001b[1AMap:  11%|█         | 7000/62247 [00:00<00:06, 8329.47 examples/s]\n",
       "\u001b[0m"
      ]
     },
     "metadata": {},
     "output_type": "display_data"
    },
    {
     "data": {
      "text/html": [
       "<pre style=\"white-space:pre;overflow-x:auto;line-height:normal;font-family:Menlo,'DejaVu Sans Mono',consolas,'Courier New',monospace\"><span style=\"color: #800000; text-decoration-color: #800000\">\u001b[1AMap:  13%|█▎        | 8000/62247 [00:00&lt;00:06, 8266.52 examples/s]\n",
       "</span></pre>\n"
      ],
      "text/plain": [
       "\u001b[31m\u001b[1AMap:  13%|█▎        | 8000/62247 [00:00<00:06, 8266.52 examples/s]\n",
       "\u001b[0m"
      ]
     },
     "metadata": {},
     "output_type": "display_data"
    },
    {
     "data": {
      "text/html": [
       "<pre style=\"white-space:pre;overflow-x:auto;line-height:normal;font-family:Menlo,'DejaVu Sans Mono',consolas,'Courier New',monospace\"><span style=\"color: #800000; text-decoration-color: #800000\">\u001b[1AMap:  14%|█▍        | 9000/62247 [00:01&lt;00:06, 8315.25 examples/s]\n",
       "</span></pre>\n"
      ],
      "text/plain": [
       "\u001b[31m\u001b[1AMap:  14%|█▍        | 9000/62247 [00:01<00:06, 8315.25 examples/s]\n",
       "\u001b[0m"
      ]
     },
     "metadata": {},
     "output_type": "display_data"
    },
    {
     "data": {
      "text/html": [
       "<pre style=\"white-space:pre;overflow-x:auto;line-height:normal;font-family:Menlo,'DejaVu Sans Mono',consolas,'Courier New',monospace\"><span style=\"color: #800000; text-decoration-color: #800000\">\u001b[1AMap:  16%|█▌        | 10000/62247 [00:01&lt;00:06, 8331.49 examples/s]\n",
       "</span></pre>\n"
      ],
      "text/plain": [
       "\u001b[31m\u001b[1AMap:  16%|█▌        | 10000/62247 [00:01<00:06, 8331.49 examples/s]\n",
       "\u001b[0m"
      ]
     },
     "metadata": {},
     "output_type": "display_data"
    },
    {
     "data": {
      "text/html": [
       "<pre style=\"white-space:pre;overflow-x:auto;line-height:normal;font-family:Menlo,'DejaVu Sans Mono',consolas,'Courier New',monospace\"><span style=\"color: #800000; text-decoration-color: #800000\">\u001b[1AMap:  18%|█▊        | 11000/62247 [00:01&lt;00:06, 7696.55 examples/s]\n",
       "</span></pre>\n"
      ],
      "text/plain": [
       "\u001b[31m\u001b[1AMap:  18%|█▊        | 11000/62247 [00:01<00:06, 7696.55 examples/s]\n",
       "\u001b[0m"
      ]
     },
     "metadata": {},
     "output_type": "display_data"
    },
    {
     "data": {
      "text/html": [
       "<pre style=\"white-space:pre;overflow-x:auto;line-height:normal;font-family:Menlo,'DejaVu Sans Mono',consolas,'Courier New',monospace\"><span style=\"color: #800000; text-decoration-color: #800000\">\u001b[1AMap:  19%|█▉        | 12000/62247 [00:01&lt;00:06, 7873.61 examples/s]\n",
       "</span></pre>\n"
      ],
      "text/plain": [
       "\u001b[31m\u001b[1AMap:  19%|█▉        | 12000/62247 [00:01<00:06, 7873.61 examples/s]\n",
       "\u001b[0m"
      ]
     },
     "metadata": {},
     "output_type": "display_data"
    },
    {
     "data": {
      "text/html": [
       "<pre style=\"white-space:pre;overflow-x:auto;line-height:normal;font-family:Menlo,'DejaVu Sans Mono',consolas,'Courier New',monospace\"><span style=\"color: #800000; text-decoration-color: #800000\">\u001b[1AMap:  21%|██        | 13000/62247 [00:01&lt;00:06, 7983.00 examples/s]\n",
       "</span></pre>\n"
      ],
      "text/plain": [
       "\u001b[31m\u001b[1AMap:  21%|██        | 13000/62247 [00:01<00:06, 7983.00 examples/s]\n",
       "\u001b[0m"
      ]
     },
     "metadata": {},
     "output_type": "display_data"
    },
    {
     "data": {
      "text/html": [
       "<pre style=\"white-space:pre;overflow-x:auto;line-height:normal;font-family:Menlo,'DejaVu Sans Mono',consolas,'Courier New',monospace\"><span style=\"color: #800000; text-decoration-color: #800000\">\u001b[1AMap:  22%|██▏       | 14000/62247 [00:01&lt;00:05, 8155.36 examples/s]\n",
       "</span></pre>\n"
      ],
      "text/plain": [
       "\u001b[31m\u001b[1AMap:  22%|██▏       | 14000/62247 [00:01<00:05, 8155.36 examples/s]\n",
       "\u001b[0m"
      ]
     },
     "metadata": {},
     "output_type": "display_data"
    },
    {
     "data": {
      "text/html": [
       "<pre style=\"white-space:pre;overflow-x:auto;line-height:normal;font-family:Menlo,'DejaVu Sans Mono',consolas,'Courier New',monospace\"><span style=\"color: #800000; text-decoration-color: #800000\">\u001b[1AMap:  24%|██▍       | 15000/62247 [00:01&lt;00:05, 8368.78 examples/s]\n",
       "</span></pre>\n"
      ],
      "text/plain": [
       "\u001b[31m\u001b[1AMap:  24%|██▍       | 15000/62247 [00:01<00:05, 8368.78 examples/s]\n",
       "\u001b[0m"
      ]
     },
     "metadata": {},
     "output_type": "display_data"
    },
    {
     "data": {
      "text/html": [
       "<pre style=\"white-space:pre;overflow-x:auto;line-height:normal;font-family:Menlo,'DejaVu Sans Mono',consolas,'Courier New',monospace\"><span style=\"color: #800000; text-decoration-color: #800000\">\u001b[1AMap:  26%|██▌       | 16000/62247 [00:01&lt;00:05, 8499.09 examples/s]\n",
       "</span></pre>\n"
      ],
      "text/plain": [
       "\u001b[31m\u001b[1AMap:  26%|██▌       | 16000/62247 [00:01<00:05, 8499.09 examples/s]\n",
       "\u001b[0m"
      ]
     },
     "metadata": {},
     "output_type": "display_data"
    },
    {
     "data": {
      "text/html": [
       "<pre style=\"white-space:pre;overflow-x:auto;line-height:normal;font-family:Menlo,'DejaVu Sans Mono',consolas,'Courier New',monospace\"><span style=\"color: #800000; text-decoration-color: #800000\">\u001b[1AMap:  27%|██▋       | 17000/62247 [00:02&lt;00:05, 8537.63 examples/s]\n",
       "</span></pre>\n"
      ],
      "text/plain": [
       "\u001b[31m\u001b[1AMap:  27%|██▋       | 17000/62247 [00:02<00:05, 8537.63 examples/s]\n",
       "\u001b[0m"
      ]
     },
     "metadata": {},
     "output_type": "display_data"
    },
    {
     "data": {
      "text/html": [
       "<pre style=\"white-space:pre;overflow-x:auto;line-height:normal;font-family:Menlo,'DejaVu Sans Mono',consolas,'Courier New',monospace\"><span style=\"color: #800000; text-decoration-color: #800000\">\u001b[1AMap:  29%|██▉       | 18000/62247 [00:02&lt;00:05, 8520.05 examples/s]\n",
       "</span></pre>\n"
      ],
      "text/plain": [
       "\u001b[31m\u001b[1AMap:  29%|██▉       | 18000/62247 [00:02<00:05, 8520.05 examples/s]\n",
       "\u001b[0m"
      ]
     },
     "metadata": {},
     "output_type": "display_data"
    },
    {
     "data": {
      "text/html": [
       "<pre style=\"white-space:pre;overflow-x:auto;line-height:normal;font-family:Menlo,'DejaVu Sans Mono',consolas,'Courier New',monospace\"><span style=\"color: #800000; text-decoration-color: #800000\">\u001b[1AMap:  31%|███       | 19000/62247 [00:02&lt;00:05, 8363.50 examples/s]\n",
       "</span></pre>\n"
      ],
      "text/plain": [
       "\u001b[31m\u001b[1AMap:  31%|███       | 19000/62247 [00:02<00:05, 8363.50 examples/s]\n",
       "\u001b[0m"
      ]
     },
     "metadata": {},
     "output_type": "display_data"
    },
    {
     "data": {
      "text/html": [
       "<pre style=\"white-space:pre;overflow-x:auto;line-height:normal;font-family:Menlo,'DejaVu Sans Mono',consolas,'Courier New',monospace\"><span style=\"color: #800000; text-decoration-color: #800000\">\u001b[1AMap:  32%|███▏      | 20000/62247 [00:02&lt;00:05, 8250.98 examples/s]\n",
       "</span></pre>\n"
      ],
      "text/plain": [
       "\u001b[31m\u001b[1AMap:  32%|███▏      | 20000/62247 [00:02<00:05, 8250.98 examples/s]\n",
       "\u001b[0m"
      ]
     },
     "metadata": {},
     "output_type": "display_data"
    },
    {
     "data": {
      "text/html": [
       "<pre style=\"white-space:pre;overflow-x:auto;line-height:normal;font-family:Menlo,'DejaVu Sans Mono',consolas,'Courier New',monospace\"><span style=\"color: #800000; text-decoration-color: #800000\">\u001b[1AMap:  34%|███▎      | 21000/62247 [00:02&lt;00:05, 8231.85 examples/s]\n",
       "</span></pre>\n"
      ],
      "text/plain": [
       "\u001b[31m\u001b[1AMap:  34%|███▎      | 21000/62247 [00:02<00:05, 8231.85 examples/s]\n",
       "\u001b[0m"
      ]
     },
     "metadata": {},
     "output_type": "display_data"
    },
    {
     "data": {
      "text/html": [
       "<pre style=\"white-space:pre;overflow-x:auto;line-height:normal;font-family:Menlo,'DejaVu Sans Mono',consolas,'Courier New',monospace\"><span style=\"color: #800000; text-decoration-color: #800000\">\u001b[1AMap:  35%|███▌      | 22000/62247 [00:02&lt;00:04, 8082.76 examples/s]\n",
       "</span></pre>\n"
      ],
      "text/plain": [
       "\u001b[31m\u001b[1AMap:  35%|███▌      | 22000/62247 [00:02<00:04, 8082.76 examples/s]\n",
       "\u001b[0m"
      ]
     },
     "metadata": {},
     "output_type": "display_data"
    },
    {
     "data": {
      "text/html": [
       "<pre style=\"white-space:pre;overflow-x:auto;line-height:normal;font-family:Menlo,'DejaVu Sans Mono',consolas,'Courier New',monospace\"><span style=\"color: #800000; text-decoration-color: #800000\">\u001b[1AMap:  37%|███▋      | 23000/62247 [00:02&lt;00:04, 8095.40 examples/s]\n",
       "</span></pre>\n"
      ],
      "text/plain": [
       "\u001b[31m\u001b[1AMap:  37%|███▋      | 23000/62247 [00:02<00:04, 8095.40 examples/s]\n",
       "\u001b[0m"
      ]
     },
     "metadata": {},
     "output_type": "display_data"
    },
    {
     "data": {
      "text/html": [
       "<pre style=\"white-space:pre;overflow-x:auto;line-height:normal;font-family:Menlo,'DejaVu Sans Mono',consolas,'Courier New',monospace\"><span style=\"color: #800000; text-decoration-color: #800000\">\u001b[1AMap:  39%|███▊      | 24000/62247 [00:02&lt;00:04, 8067.54 examples/s]\n",
       "</span></pre>\n"
      ],
      "text/plain": [
       "\u001b[31m\u001b[1AMap:  39%|███▊      | 24000/62247 [00:02<00:04, 8067.54 examples/s]\n",
       "\u001b[0m"
      ]
     },
     "metadata": {},
     "output_type": "display_data"
    },
    {
     "data": {
      "text/html": [
       "<pre style=\"white-space:pre;overflow-x:auto;line-height:normal;font-family:Menlo,'DejaVu Sans Mono',consolas,'Courier New',monospace\"><span style=\"color: #800000; text-decoration-color: #800000\">\u001b[1AMap:  40%|████      | 25000/62247 [00:03&lt;00:04, 8042.23 examples/s]\n",
       "</span></pre>\n"
      ],
      "text/plain": [
       "\u001b[31m\u001b[1AMap:  40%|████      | 25000/62247 [00:03<00:04, 8042.23 examples/s]\n",
       "\u001b[0m"
      ]
     },
     "metadata": {},
     "output_type": "display_data"
    },
    {
     "data": {
      "text/html": [
       "<pre style=\"white-space:pre;overflow-x:auto;line-height:normal;font-family:Menlo,'DejaVu Sans Mono',consolas,'Courier New',monospace\"><span style=\"color: #800000; text-decoration-color: #800000\">\u001b[1AMap:  42%|████▏     | 26000/62247 [00:03&lt;00:04, 8077.09 examples/s]\n",
       "</span></pre>\n"
      ],
      "text/plain": [
       "\u001b[31m\u001b[1AMap:  42%|████▏     | 26000/62247 [00:03<00:04, 8077.09 examples/s]\n",
       "\u001b[0m"
      ]
     },
     "metadata": {},
     "output_type": "display_data"
    },
    {
     "data": {
      "text/html": [
       "<pre style=\"white-space:pre;overflow-x:auto;line-height:normal;font-family:Menlo,'DejaVu Sans Mono',consolas,'Courier New',monospace\"><span style=\"color: #800000; text-decoration-color: #800000\">\u001b[1AMap:  43%|████▎     | 27000/62247 [00:03&lt;00:04, 8088.85 examples/s]\n",
       "</span></pre>\n"
      ],
      "text/plain": [
       "\u001b[31m\u001b[1AMap:  43%|████▎     | 27000/62247 [00:03<00:04, 8088.85 examples/s]\n",
       "\u001b[0m"
      ]
     },
     "metadata": {},
     "output_type": "display_data"
    },
    {
     "data": {
      "text/html": [
       "<pre style=\"white-space:pre;overflow-x:auto;line-height:normal;font-family:Menlo,'DejaVu Sans Mono',consolas,'Courier New',monospace\"><span style=\"color: #800000; text-decoration-color: #800000\">\u001b[1AMap:  45%|████▍     | 28000/62247 [00:03&lt;00:04, 8046.30 examples/s]\n",
       "</span></pre>\n"
      ],
      "text/plain": [
       "\u001b[31m\u001b[1AMap:  45%|████▍     | 28000/62247 [00:03<00:04, 8046.30 examples/s]\n",
       "\u001b[0m"
      ]
     },
     "metadata": {},
     "output_type": "display_data"
    },
    {
     "data": {
      "text/html": [
       "<pre style=\"white-space:pre;overflow-x:auto;line-height:normal;font-family:Menlo,'DejaVu Sans Mono',consolas,'Courier New',monospace\"><span style=\"color: #800000; text-decoration-color: #800000\">\u001b[1AMap:  47%|████▋     | 29000/62247 [00:03&lt;00:04, 8024.91 examples/s]\n",
       "</span></pre>\n"
      ],
      "text/plain": [
       "\u001b[31m\u001b[1AMap:  47%|████▋     | 29000/62247 [00:03<00:04, 8024.91 examples/s]\n",
       "\u001b[0m"
      ]
     },
     "metadata": {},
     "output_type": "display_data"
    },
    {
     "data": {
      "text/html": [
       "<pre style=\"white-space:pre;overflow-x:auto;line-height:normal;font-family:Menlo,'DejaVu Sans Mono',consolas,'Courier New',monospace\"><span style=\"color: #800000; text-decoration-color: #800000\">\u001b[1AMap:  48%|████▊     | 30000/62247 [00:03&lt;00:05, 6006.21 examples/s]\n",
       "</span></pre>\n"
      ],
      "text/plain": [
       "\u001b[31m\u001b[1AMap:  48%|████▊     | 30000/62247 [00:03<00:05, 6006.21 examples/s]\n",
       "\u001b[0m"
      ]
     },
     "metadata": {},
     "output_type": "display_data"
    },
    {
     "data": {
      "text/html": [
       "<pre style=\"white-space:pre;overflow-x:auto;line-height:normal;font-family:Menlo,'DejaVu Sans Mono',consolas,'Courier New',monospace\"><span style=\"color: #800000; text-decoration-color: #800000\">\u001b[1AMap:  50%|████▉     | 31000/62247 [00:03&lt;00:04, 6519.75 examples/s]\n",
       "</span></pre>\n"
      ],
      "text/plain": [
       "\u001b[31m\u001b[1AMap:  50%|████▉     | 31000/62247 [00:03<00:04, 6519.75 examples/s]\n",
       "\u001b[0m"
      ]
     },
     "metadata": {},
     "output_type": "display_data"
    },
    {
     "data": {
      "text/html": [
       "<pre style=\"white-space:pre;overflow-x:auto;line-height:normal;font-family:Menlo,'DejaVu Sans Mono',consolas,'Courier New',monospace\"><span style=\"color: #800000; text-decoration-color: #800000\">\u001b[1AMap:  51%|█████▏    | 32000/62247 [00:04&lt;00:04, 6983.55 examples/s]\n",
       "</span></pre>\n"
      ],
      "text/plain": [
       "\u001b[31m\u001b[1AMap:  51%|█████▏    | 32000/62247 [00:04<00:04, 6983.55 examples/s]\n",
       "\u001b[0m"
      ]
     },
     "metadata": {},
     "output_type": "display_data"
    },
    {
     "data": {
      "text/html": [
       "<pre style=\"white-space:pre;overflow-x:auto;line-height:normal;font-family:Menlo,'DejaVu Sans Mono',consolas,'Courier New',monospace\"><span style=\"color: #800000; text-decoration-color: #800000\">\u001b[1AMap:  53%|█████▎    | 33000/62247 [00:04&lt;00:04, 6793.42 examples/s]\n",
       "</span></pre>\n"
      ],
      "text/plain": [
       "\u001b[31m\u001b[1AMap:  53%|█████▎    | 33000/62247 [00:04<00:04, 6793.42 examples/s]\n",
       "\u001b[0m"
      ]
     },
     "metadata": {},
     "output_type": "display_data"
    },
    {
     "data": {
      "text/html": [
       "<pre style=\"white-space:pre;overflow-x:auto;line-height:normal;font-family:Menlo,'DejaVu Sans Mono',consolas,'Courier New',monospace\"><span style=\"color: #800000; text-decoration-color: #800000\">\u001b[1AMap:  55%|█████▍    | 34000/62247 [00:04&lt;00:03, 7252.32 examples/s]\n",
       "</span></pre>\n"
      ],
      "text/plain": [
       "\u001b[31m\u001b[1AMap:  55%|█████▍    | 34000/62247 [00:04<00:03, 7252.32 examples/s]\n",
       "\u001b[0m"
      ]
     },
     "metadata": {},
     "output_type": "display_data"
    },
    {
     "data": {
      "text/html": [
       "<pre style=\"white-space:pre;overflow-x:auto;line-height:normal;font-family:Menlo,'DejaVu Sans Mono',consolas,'Courier New',monospace\"><span style=\"color: #800000; text-decoration-color: #800000\">\u001b[1AMap:  56%|█████▌    | 35000/62247 [00:04&lt;00:03, 7526.10 examples/s]\n",
       "</span></pre>\n"
      ],
      "text/plain": [
       "\u001b[31m\u001b[1AMap:  56%|█████▌    | 35000/62247 [00:04<00:03, 7526.10 examples/s]\n",
       "\u001b[0m"
      ]
     },
     "metadata": {},
     "output_type": "display_data"
    },
    {
     "data": {
      "text/html": [
       "<pre style=\"white-space:pre;overflow-x:auto;line-height:normal;font-family:Menlo,'DejaVu Sans Mono',consolas,'Courier New',monospace\"><span style=\"color: #800000; text-decoration-color: #800000\">\u001b[1AMap:  58%|█████▊    | 36000/62247 [00:04&lt;00:03, 7760.57 examples/s]\n",
       "</span></pre>\n"
      ],
      "text/plain": [
       "\u001b[31m\u001b[1AMap:  58%|█████▊    | 36000/62247 [00:04<00:03, 7760.57 examples/s]\n",
       "\u001b[0m"
      ]
     },
     "metadata": {},
     "output_type": "display_data"
    },
    {
     "data": {
      "text/html": [
       "<pre style=\"white-space:pre;overflow-x:auto;line-height:normal;font-family:Menlo,'DejaVu Sans Mono',consolas,'Courier New',monospace\"><span style=\"color: #800000; text-decoration-color: #800000\">\u001b[1AMap:  59%|█████▉    | 37000/62247 [00:04&lt;00:03, 7859.04 examples/s]\n",
       "</span></pre>\n"
      ],
      "text/plain": [
       "\u001b[31m\u001b[1AMap:  59%|█████▉    | 37000/62247 [00:04<00:03, 7859.04 examples/s]\n",
       "\u001b[0m"
      ]
     },
     "metadata": {},
     "output_type": "display_data"
    },
    {
     "data": {
      "text/html": [
       "<pre style=\"white-space:pre;overflow-x:auto;line-height:normal;font-family:Menlo,'DejaVu Sans Mono',consolas,'Courier New',monospace\"><span style=\"color: #800000; text-decoration-color: #800000\">\u001b[1AMap:  61%|██████    | 38000/62247 [00:04&lt;00:03, 7728.21 examples/s]\n",
       "</span></pre>\n"
      ],
      "text/plain": [
       "\u001b[31m\u001b[1AMap:  61%|██████    | 38000/62247 [00:04<00:03, 7728.21 examples/s]\n",
       "\u001b[0m"
      ]
     },
     "metadata": {},
     "output_type": "display_data"
    },
    {
     "data": {
      "text/html": [
       "<pre style=\"white-space:pre;overflow-x:auto;line-height:normal;font-family:Menlo,'DejaVu Sans Mono',consolas,'Courier New',monospace\"><span style=\"color: #800000; text-decoration-color: #800000\">\u001b[1AMap:  63%|██████▎   | 39000/62247 [00:04&lt;00:02, 7923.28 examples/s]\n",
       "</span></pre>\n"
      ],
      "text/plain": [
       "\u001b[31m\u001b[1AMap:  63%|██████▎   | 39000/62247 [00:04<00:02, 7923.28 examples/s]\n",
       "\u001b[0m"
      ]
     },
     "metadata": {},
     "output_type": "display_data"
    },
    {
     "data": {
      "text/html": [
       "<pre style=\"white-space:pre;overflow-x:auto;line-height:normal;font-family:Menlo,'DejaVu Sans Mono',consolas,'Courier New',monospace\"><span style=\"color: #800000; text-decoration-color: #800000\">\u001b[1AMap:  64%|██████▍   | 40000/62247 [00:05&lt;00:02, 8019.39 examples/s]\n",
       "</span></pre>\n"
      ],
      "text/plain": [
       "\u001b[31m\u001b[1AMap:  64%|██████▍   | 40000/62247 [00:05<00:02, 8019.39 examples/s]\n",
       "\u001b[0m"
      ]
     },
     "metadata": {},
     "output_type": "display_data"
    },
    {
     "data": {
      "text/html": [
       "<pre style=\"white-space:pre;overflow-x:auto;line-height:normal;font-family:Menlo,'DejaVu Sans Mono',consolas,'Courier New',monospace\"><span style=\"color: #800000; text-decoration-color: #800000\">\u001b[1AMap:  66%|██████▌   | 41000/62247 [00:05&lt;00:02, 8169.29 examples/s]\n",
       "</span></pre>\n"
      ],
      "text/plain": [
       "\u001b[31m\u001b[1AMap:  66%|██████▌   | 41000/62247 [00:05<00:02, 8169.29 examples/s]\n",
       "\u001b[0m"
      ]
     },
     "metadata": {},
     "output_type": "display_data"
    },
    {
     "data": {
      "text/html": [
       "<pre style=\"white-space:pre;overflow-x:auto;line-height:normal;font-family:Menlo,'DejaVu Sans Mono',consolas,'Courier New',monospace\"><span style=\"color: #800000; text-decoration-color: #800000\">\u001b[1AMap:  67%|██████▋   | 42000/62247 [00:05&lt;00:02, 8265.00 examples/s]\n",
       "</span></pre>\n"
      ],
      "text/plain": [
       "\u001b[31m\u001b[1AMap:  67%|██████▋   | 42000/62247 [00:05<00:02, 8265.00 examples/s]\n",
       "\u001b[0m"
      ]
     },
     "metadata": {},
     "output_type": "display_data"
    },
    {
     "data": {
      "text/html": [
       "<pre style=\"white-space:pre;overflow-x:auto;line-height:normal;font-family:Menlo,'DejaVu Sans Mono',consolas,'Courier New',monospace\"><span style=\"color: #800000; text-decoration-color: #800000\">\u001b[1AMap:  69%|██████▉   | 43000/62247 [00:05&lt;00:02, 8133.57 examples/s]\n",
       "</span></pre>\n"
      ],
      "text/plain": [
       "\u001b[31m\u001b[1AMap:  69%|██████▉   | 43000/62247 [00:05<00:02, 8133.57 examples/s]\n",
       "\u001b[0m"
      ]
     },
     "metadata": {},
     "output_type": "display_data"
    },
    {
     "data": {
      "text/html": [
       "<pre style=\"white-space:pre;overflow-x:auto;line-height:normal;font-family:Menlo,'DejaVu Sans Mono',consolas,'Courier New',monospace\"><span style=\"color: #800000; text-decoration-color: #800000\">\u001b[1AMap:  71%|███████   | 44000/62247 [00:05&lt;00:02, 8312.28 examples/s]\n",
       "</span></pre>\n"
      ],
      "text/plain": [
       "\u001b[31m\u001b[1AMap:  71%|███████   | 44000/62247 [00:05<00:02, 8312.28 examples/s]\n",
       "\u001b[0m"
      ]
     },
     "metadata": {},
     "output_type": "display_data"
    },
    {
     "data": {
      "text/html": [
       "<pre style=\"white-space:pre;overflow-x:auto;line-height:normal;font-family:Menlo,'DejaVu Sans Mono',consolas,'Courier New',monospace\"><span style=\"color: #800000; text-decoration-color: #800000\">\u001b[1AMap:  72%|███████▏  | 45000/62247 [00:05&lt;00:02, 8367.56 examples/s]\n",
       "</span></pre>\n"
      ],
      "text/plain": [
       "\u001b[31m\u001b[1AMap:  72%|███████▏  | 45000/62247 [00:05<00:02, 8367.56 examples/s]\n",
       "\u001b[0m"
      ]
     },
     "metadata": {},
     "output_type": "display_data"
    },
    {
     "data": {
      "text/html": [
       "<pre style=\"white-space:pre;overflow-x:auto;line-height:normal;font-family:Menlo,'DejaVu Sans Mono',consolas,'Courier New',monospace\"><span style=\"color: #800000; text-decoration-color: #800000\">\u001b[1AMap:  74%|███████▍  | 46000/62247 [00:05&lt;00:01, 8488.68 examples/s]\n",
       "</span></pre>\n"
      ],
      "text/plain": [
       "\u001b[31m\u001b[1AMap:  74%|███████▍  | 46000/62247 [00:05<00:01, 8488.68 examples/s]\n",
       "\u001b[0m"
      ]
     },
     "metadata": {},
     "output_type": "display_data"
    },
    {
     "data": {
      "text/html": [
       "<pre style=\"white-space:pre;overflow-x:auto;line-height:normal;font-family:Menlo,'DejaVu Sans Mono',consolas,'Courier New',monospace\"><span style=\"color: #800000; text-decoration-color: #800000\">\u001b[1AMap:  76%|███████▌  | 47000/62247 [00:05&lt;00:01, 8543.39 examples/s]\n",
       "</span></pre>\n"
      ],
      "text/plain": [
       "\u001b[31m\u001b[1AMap:  76%|███████▌  | 47000/62247 [00:05<00:01, 8543.39 examples/s]\n",
       "\u001b[0m"
      ]
     },
     "metadata": {},
     "output_type": "display_data"
    },
    {
     "data": {
      "text/html": [
       "<pre style=\"white-space:pre;overflow-x:auto;line-height:normal;font-family:Menlo,'DejaVu Sans Mono',consolas,'Courier New',monospace\"><span style=\"color: #800000; text-decoration-color: #800000\">\u001b[1AMap:  77%|███████▋  | 48000/62247 [00:06&lt;00:01, 8568.16 examples/s]\n",
       "</span></pre>\n"
      ],
      "text/plain": [
       "\u001b[31m\u001b[1AMap:  77%|███████▋  | 48000/62247 [00:06<00:01, 8568.16 examples/s]\n",
       "\u001b[0m"
      ]
     },
     "metadata": {},
     "output_type": "display_data"
    },
    {
     "data": {
      "text/html": [
       "<pre style=\"white-space:pre;overflow-x:auto;line-height:normal;font-family:Menlo,'DejaVu Sans Mono',consolas,'Courier New',monospace\"><span style=\"color: #800000; text-decoration-color: #800000\">\u001b[1AMap:  79%|███████▊  | 49000/62247 [00:06&lt;00:01, 8560.41 examples/s]\n",
       "</span></pre>\n"
      ],
      "text/plain": [
       "\u001b[31m\u001b[1AMap:  79%|███████▊  | 49000/62247 [00:06<00:01, 8560.41 examples/s]\n",
       "\u001b[0m"
      ]
     },
     "metadata": {},
     "output_type": "display_data"
    },
    {
     "data": {
      "text/html": [
       "<pre style=\"white-space:pre;overflow-x:auto;line-height:normal;font-family:Menlo,'DejaVu Sans Mono',consolas,'Courier New',monospace\"><span style=\"color: #800000; text-decoration-color: #800000\">\u001b[1AMap:  80%|████████  | 50000/62247 [00:06&lt;00:01, 8568.90 examples/s]\n",
       "</span></pre>\n"
      ],
      "text/plain": [
       "\u001b[31m\u001b[1AMap:  80%|████████  | 50000/62247 [00:06<00:01, 8568.90 examples/s]\n",
       "\u001b[0m"
      ]
     },
     "metadata": {},
     "output_type": "display_data"
    },
    {
     "data": {
      "text/html": [
       "<pre style=\"white-space:pre;overflow-x:auto;line-height:normal;font-family:Menlo,'DejaVu Sans Mono',consolas,'Courier New',monospace\"><span style=\"color: #800000; text-decoration-color: #800000\">\u001b[1AMap:  82%|████████▏ | 51000/62247 [00:06&lt;00:01, 8287.52 examples/s]\n",
       "</span></pre>\n"
      ],
      "text/plain": [
       "\u001b[31m\u001b[1AMap:  82%|████████▏ | 51000/62247 [00:06<00:01, 8287.52 examples/s]\n",
       "\u001b[0m"
      ]
     },
     "metadata": {},
     "output_type": "display_data"
    },
    {
     "data": {
      "text/html": [
       "<pre style=\"white-space:pre;overflow-x:auto;line-height:normal;font-family:Menlo,'DejaVu Sans Mono',consolas,'Courier New',monospace\"><span style=\"color: #800000; text-decoration-color: #800000\">\u001b[1AMap:  84%|████████▎ | 52000/62247 [00:06&lt;00:01, 8291.41 examples/s]\n",
       "</span></pre>\n"
      ],
      "text/plain": [
       "\u001b[31m\u001b[1AMap:  84%|████████▎ | 52000/62247 [00:06<00:01, 8291.41 examples/s]\n",
       "\u001b[0m"
      ]
     },
     "metadata": {},
     "output_type": "display_data"
    },
    {
     "data": {
      "text/html": [
       "<pre style=\"white-space:pre;overflow-x:auto;line-height:normal;font-family:Menlo,'DejaVu Sans Mono',consolas,'Courier New',monospace\"><span style=\"color: #800000; text-decoration-color: #800000\">\u001b[1AMap:  85%|████████▌ | 53000/62247 [00:06&lt;00:01, 8279.82 examples/s]\n",
       "</span></pre>\n"
      ],
      "text/plain": [
       "\u001b[31m\u001b[1AMap:  85%|████████▌ | 53000/62247 [00:06<00:01, 8279.82 examples/s]\n",
       "\u001b[0m"
      ]
     },
     "metadata": {},
     "output_type": "display_data"
    },
    {
     "data": {
      "text/html": [
       "<pre style=\"white-space:pre;overflow-x:auto;line-height:normal;font-family:Menlo,'DejaVu Sans Mono',consolas,'Courier New',monospace\"><span style=\"color: #800000; text-decoration-color: #800000\">\u001b[1AMap:  87%|████████▋ | 54000/62247 [00:06&lt;00:01, 8239.95 examples/s]\n",
       "</span></pre>\n"
      ],
      "text/plain": [
       "\u001b[31m\u001b[1AMap:  87%|████████▋ | 54000/62247 [00:06<00:01, 8239.95 examples/s]\n",
       "\u001b[0m"
      ]
     },
     "metadata": {},
     "output_type": "display_data"
    },
    {
     "data": {
      "text/html": [
       "<pre style=\"white-space:pre;overflow-x:auto;line-height:normal;font-family:Menlo,'DejaVu Sans Mono',consolas,'Courier New',monospace\"><span style=\"color: #800000; text-decoration-color: #800000\">\u001b[1AMap:  88%|████████▊ | 55000/62247 [00:06&lt;00:00, 8255.98 examples/s]\n",
       "</span></pre>\n"
      ],
      "text/plain": [
       "\u001b[31m\u001b[1AMap:  88%|████████▊ | 55000/62247 [00:06<00:00, 8255.98 examples/s]\n",
       "\u001b[0m"
      ]
     },
     "metadata": {},
     "output_type": "display_data"
    },
    {
     "data": {
      "text/html": [
       "<pre style=\"white-space:pre;overflow-x:auto;line-height:normal;font-family:Menlo,'DejaVu Sans Mono',consolas,'Courier New',monospace\"><span style=\"color: #800000; text-decoration-color: #800000\">\u001b[1AMap:  90%|████████▉ | 56000/62247 [00:06&lt;00:00, 8279.32 examples/s]\n",
       "</span></pre>\n"
      ],
      "text/plain": [
       "\u001b[31m\u001b[1AMap:  90%|████████▉ | 56000/62247 [00:06<00:00, 8279.32 examples/s]\n",
       "\u001b[0m"
      ]
     },
     "metadata": {},
     "output_type": "display_data"
    },
    {
     "data": {
      "text/html": [
       "<pre style=\"white-space:pre;overflow-x:auto;line-height:normal;font-family:Menlo,'DejaVu Sans Mono',consolas,'Courier New',monospace\"><span style=\"color: #800000; text-decoration-color: #800000\">\u001b[1AMap:  92%|█████████▏| 57000/62247 [00:07&lt;00:00, 8314.39 examples/s]\n",
       "</span></pre>\n"
      ],
      "text/plain": [
       "\u001b[31m\u001b[1AMap:  92%|█████████▏| 57000/62247 [00:07<00:00, 8314.39 examples/s]\n",
       "\u001b[0m"
      ]
     },
     "metadata": {},
     "output_type": "display_data"
    },
    {
     "data": {
      "text/html": [
       "<pre style=\"white-space:pre;overflow-x:auto;line-height:normal;font-family:Menlo,'DejaVu Sans Mono',consolas,'Courier New',monospace\"><span style=\"color: #800000; text-decoration-color: #800000\">\u001b[1AMap:  93%|█████████▎| 58000/62247 [00:07&lt;00:00, 8337.83 examples/s]\n",
       "</span></pre>\n"
      ],
      "text/plain": [
       "\u001b[31m\u001b[1AMap:  93%|█████████▎| 58000/62247 [00:07<00:00, 8337.83 examples/s]\n",
       "\u001b[0m"
      ]
     },
     "metadata": {},
     "output_type": "display_data"
    },
    {
     "data": {
      "text/html": [
       "<pre style=\"white-space:pre;overflow-x:auto;line-height:normal;font-family:Menlo,'DejaVu Sans Mono',consolas,'Courier New',monospace\"><span style=\"color: #800000; text-decoration-color: #800000\">\u001b[1AMap:  95%|█████████▍| 59000/62247 [00:07&lt;00:00, 8293.69 examples/s]\n",
       "</span></pre>\n"
      ],
      "text/plain": [
       "\u001b[31m\u001b[1AMap:  95%|█████████▍| 59000/62247 [00:07<00:00, 8293.69 examples/s]\n",
       "\u001b[0m"
      ]
     },
     "metadata": {},
     "output_type": "display_data"
    },
    {
     "data": {
      "text/html": [
       "<pre style=\"white-space:pre;overflow-x:auto;line-height:normal;font-family:Menlo,'DejaVu Sans Mono',consolas,'Courier New',monospace\"><span style=\"color: #800000; text-decoration-color: #800000\">\u001b[1AMap:  96%|█████████▋| 60000/62247 [00:07&lt;00:00, 8384.02 examples/s]\n",
       "</span></pre>\n"
      ],
      "text/plain": [
       "\u001b[31m\u001b[1AMap:  96%|█████████▋| 60000/62247 [00:07<00:00, 8384.02 examples/s]\n",
       "\u001b[0m"
      ]
     },
     "metadata": {},
     "output_type": "display_data"
    },
    {
     "data": {
      "text/html": [
       "<pre style=\"white-space:pre;overflow-x:auto;line-height:normal;font-family:Menlo,'DejaVu Sans Mono',consolas,'Courier New',monospace\"><span style=\"color: #800000; text-decoration-color: #800000\">\u001b[1AMap:  98%|█████████▊| 61000/62247 [00:07&lt;00:00, 8431.91 examples/s]\n",
       "</span></pre>\n"
      ],
      "text/plain": [
       "\u001b[31m\u001b[1AMap:  98%|█████████▊| 61000/62247 [00:07<00:00, 8431.91 examples/s]\n",
       "\u001b[0m"
      ]
     },
     "metadata": {},
     "output_type": "display_data"
    },
    {
     "data": {
      "text/html": [
       "<pre style=\"white-space:pre;overflow-x:auto;line-height:normal;font-family:Menlo,'DejaVu Sans Mono',consolas,'Courier New',monospace\"><span style=\"color: #800000; text-decoration-color: #800000\">\u001b[1AMap: 100%|█████████▉| 62000/62247 [00:07&lt;00:00, 8438.15 examples/s]\n",
       "</span></pre>\n"
      ],
      "text/plain": [
       "\u001b[31m\u001b[1AMap: 100%|█████████▉| 62000/62247 [00:07<00:00, 8438.15 examples/s]\n",
       "\u001b[0m"
      ]
     },
     "metadata": {},
     "output_type": "display_data"
    },
    {
     "data": {
      "text/html": [
       "<pre style=\"white-space:pre;overflow-x:auto;line-height:normal;font-family:Menlo,'DejaVu Sans Mono',consolas,'Courier New',monospace\"><span style=\"color: #800000; text-decoration-color: #800000\">\u001b[1AMap: 100%|██████████| 62247/62247 [00:07&lt;00:00, 8069.08 examples/s]\n",
       "</span></pre>\n"
      ],
      "text/plain": [
       "\u001b[31m\u001b[1AMap: 100%|██████████| 62247/62247 [00:07<00:00, 8069.08 examples/s]\n",
       "\u001b[0m"
      ]
     },
     "metadata": {},
     "output_type": "display_data"
    },
    {
     "data": {
      "text/html": [
       "<pre style=\"white-space:pre;overflow-x:auto;line-height:normal;font-family:Menlo,'DejaVu Sans Mono',consolas,'Courier New',monospace\"><span style=\"color: #800000; text-decoration-color: #800000\">\n",
       "</span></pre>\n"
      ],
      "text/plain": [
       "\u001b[31m\n",
       "\u001b[0m"
      ]
     },
     "metadata": {},
     "output_type": "display_data"
    },
    {
     "data": {
      "text/html": [
       "<pre style=\"white-space:pre;overflow-x:auto;line-height:normal;font-family:Menlo,'DejaVu Sans Mono',consolas,'Courier New',monospace\"><span style=\"color: #800000; text-decoration-color: #800000\">\u001b[1AMap:   0%|          | 0/10990 [00:00&lt;?, ? examples/s]\n",
       "</span></pre>\n"
      ],
      "text/plain": [
       "\u001b[31m\u001b[1AMap:   0%|          | 0/10990 [00:00<?, ? examples/s]\n",
       "\u001b[0m"
      ]
     },
     "metadata": {},
     "output_type": "display_data"
    },
    {
     "data": {
      "text/html": [
       "<pre style=\"white-space:pre;overflow-x:auto;line-height:normal;font-family:Menlo,'DejaVu Sans Mono',consolas,'Courier New',monospace\"><span style=\"color: #800000; text-decoration-color: #800000\">\u001b[1AMap:   9%|▉         | 1000/10990 [00:00&lt;00:01, 8372.42 examples/s]\n",
       "</span></pre>\n"
      ],
      "text/plain": [
       "\u001b[31m\u001b[1AMap:   9%|▉         | 1000/10990 [00:00<00:01, 8372.42 examples/s]\n",
       "\u001b[0m"
      ]
     },
     "metadata": {},
     "output_type": "display_data"
    },
    {
     "data": {
      "text/html": [
       "<pre style=\"white-space:pre;overflow-x:auto;line-height:normal;font-family:Menlo,'DejaVu Sans Mono',consolas,'Courier New',monospace\"><span style=\"color: #800000; text-decoration-color: #800000\">\u001b[1AMap:  18%|█▊        | 2000/10990 [00:00&lt;00:01, 7893.31 examples/s]\n",
       "</span></pre>\n"
      ],
      "text/plain": [
       "\u001b[31m\u001b[1AMap:  18%|█▊        | 2000/10990 [00:00<00:01, 7893.31 examples/s]\n",
       "\u001b[0m"
      ]
     },
     "metadata": {},
     "output_type": "display_data"
    },
    {
     "data": {
      "text/html": [
       "<pre style=\"white-space:pre;overflow-x:auto;line-height:normal;font-family:Menlo,'DejaVu Sans Mono',consolas,'Courier New',monospace\"><span style=\"color: #800000; text-decoration-color: #800000\">\u001b[1AMap:  27%|██▋       | 3000/10990 [00:00&lt;00:00, 8147.66 examples/s]\n",
       "</span></pre>\n"
      ],
      "text/plain": [
       "\u001b[31m\u001b[1AMap:  27%|██▋       | 3000/10990 [00:00<00:00, 8147.66 examples/s]\n",
       "\u001b[0m"
      ]
     },
     "metadata": {},
     "output_type": "display_data"
    },
    {
     "data": {
      "text/html": [
       "<pre style=\"white-space:pre;overflow-x:auto;line-height:normal;font-family:Menlo,'DejaVu Sans Mono',consolas,'Courier New',monospace\"><span style=\"color: #800000; text-decoration-color: #800000\">\u001b[1AMap:  36%|███▋      | 4000/10990 [00:00&lt;00:00, 8208.66 examples/s]\n",
       "</span></pre>\n"
      ],
      "text/plain": [
       "\u001b[31m\u001b[1AMap:  36%|███▋      | 4000/10990 [00:00<00:00, 8208.66 examples/s]\n",
       "\u001b[0m"
      ]
     },
     "metadata": {},
     "output_type": "display_data"
    },
    {
     "data": {
      "text/html": [
       "<pre style=\"white-space:pre;overflow-x:auto;line-height:normal;font-family:Menlo,'DejaVu Sans Mono',consolas,'Courier New',monospace\"><span style=\"color: #800000; text-decoration-color: #800000\">\u001b[1AMap:  45%|████▌     | 5000/10990 [00:00&lt;00:00, 8217.55 examples/s]\n",
       "</span></pre>\n"
      ],
      "text/plain": [
       "\u001b[31m\u001b[1AMap:  45%|████▌     | 5000/10990 [00:00<00:00, 8217.55 examples/s]\n",
       "\u001b[0m"
      ]
     },
     "metadata": {},
     "output_type": "display_data"
    },
    {
     "data": {
      "text/html": [
       "<pre style=\"white-space:pre;overflow-x:auto;line-height:normal;font-family:Menlo,'DejaVu Sans Mono',consolas,'Courier New',monospace\"><span style=\"color: #800000; text-decoration-color: #800000\">\u001b[1AMap:  55%|█████▍    | 6000/10990 [00:00&lt;00:00, 8194.60 examples/s]\n",
       "</span></pre>\n"
      ],
      "text/plain": [
       "\u001b[31m\u001b[1AMap:  55%|█████▍    | 6000/10990 [00:00<00:00, 8194.60 examples/s]\n",
       "\u001b[0m"
      ]
     },
     "metadata": {},
     "output_type": "display_data"
    },
    {
     "data": {
      "text/html": [
       "<pre style=\"white-space:pre;overflow-x:auto;line-height:normal;font-family:Menlo,'DejaVu Sans Mono',consolas,'Courier New',monospace\"><span style=\"color: #800000; text-decoration-color: #800000\">\u001b[1AMap:  64%|██████▎   | 7000/10990 [00:00&lt;00:00, 8193.21 examples/s]\n",
       "</span></pre>\n"
      ],
      "text/plain": [
       "\u001b[31m\u001b[1AMap:  64%|██████▎   | 7000/10990 [00:00<00:00, 8193.21 examples/s]\n",
       "\u001b[0m"
      ]
     },
     "metadata": {},
     "output_type": "display_data"
    },
    {
     "data": {
      "text/html": [
       "<pre style=\"white-space:pre;overflow-x:auto;line-height:normal;font-family:Menlo,'DejaVu Sans Mono',consolas,'Courier New',monospace\"><span style=\"color: #800000; text-decoration-color: #800000\">\u001b[1AMap:  73%|███████▎  | 8000/10990 [00:00&lt;00:00, 8310.08 examples/s]\n",
       "</span></pre>\n"
      ],
      "text/plain": [
       "\u001b[31m\u001b[1AMap:  73%|███████▎  | 8000/10990 [00:00<00:00, 8310.08 examples/s]\n",
       "\u001b[0m"
      ]
     },
     "metadata": {},
     "output_type": "display_data"
    },
    {
     "data": {
      "text/html": [
       "<pre style=\"white-space:pre;overflow-x:auto;line-height:normal;font-family:Menlo,'DejaVu Sans Mono',consolas,'Courier New',monospace\"><span style=\"color: #800000; text-decoration-color: #800000\">\u001b[1AMap:  82%|████████▏ | 9000/10990 [00:01&lt;00:00, 8342.02 examples/s]\n",
       "</span></pre>\n"
      ],
      "text/plain": [
       "\u001b[31m\u001b[1AMap:  82%|████████▏ | 9000/10990 [00:01<00:00, 8342.02 examples/s]\n",
       "\u001b[0m"
      ]
     },
     "metadata": {},
     "output_type": "display_data"
    },
    {
     "data": {
      "text/html": [
       "<pre style=\"white-space:pre;overflow-x:auto;line-height:normal;font-family:Menlo,'DejaVu Sans Mono',consolas,'Courier New',monospace\"><span style=\"color: #800000; text-decoration-color: #800000\">\u001b[1AMap:  91%|█████████ | 10000/10990 [00:01&lt;00:00, 8020.35 examples/s]\n",
       "</span></pre>\n"
      ],
      "text/plain": [
       "\u001b[31m\u001b[1AMap:  91%|█████████ | 10000/10990 [00:01<00:00, 8020.35 examples/s]\n",
       "\u001b[0m"
      ]
     },
     "metadata": {},
     "output_type": "display_data"
    },
    {
     "data": {
      "text/html": [
       "<pre style=\"white-space:pre;overflow-x:auto;line-height:normal;font-family:Menlo,'DejaVu Sans Mono',consolas,'Courier New',monospace\"><span style=\"color: #800000; text-decoration-color: #800000\">\u001b[1AMap: 100%|██████████| 10990/10990 [00:01&lt;00:00, 8093.53 examples/s]Map: 100%|██████████| 10990/10990 [00:01&lt;00:00, 8148.29 examples/s]\n",
       "</span></pre>\n"
      ],
      "text/plain": [
       "\u001b[31m\u001b[1AMap: 100%|██████████| 10990/10990 [00:01<00:00, 8093.53 examples/s]Map: 100%|██████████| 10990/10990 [00:01<00:00, 8148.29 examples/s]\n",
       "\u001b[0m"
      ]
     },
     "metadata": {},
     "output_type": "display_data"
    },
    {
     "data": {
      "text/html": [
       "<pre style=\"white-space:pre;overflow-x:auto;line-height:normal;font-family:Menlo,'DejaVu Sans Mono',consolas,'Courier New',monospace\"><span style=\"color: #000080; text-decoration-color: #000080\"></span></pre>\n"
      ],
      "text/plain": []
     },
     "metadata": {},
     "output_type": "display_data"
    },
    {
     "data": {
      "text/html": [
       "<pre style=\"white-space:pre;overflow-x:auto;line-height:normal;font-family:Menlo,'DejaVu Sans Mono',consolas,'Courier New',monospace\"><span style=\"color: #000080; text-decoration-color: #000080\">trainable params: 1,481,480 || all params: 279,531,280 || trainable%: 0.5300\n",
       "</span></pre>\n"
      ],
      "text/plain": [
       "\u001b[34mtrainable params: 1,481,480 || all params: 279,531,280 || trainable%: 0.5300\n",
       "\u001b[0m"
      ]
     },
     "metadata": {},
     "output_type": "display_data"
    },
    {
     "data": {
      "text/html": [
       "<pre style=\"white-space:pre;overflow-x:auto;line-height:normal;font-family:Menlo,'DejaVu Sans Mono',consolas,'Courier New',monospace\"><span style=\"color: #800000; text-decoration-color: #800000\">Detected kernel version 4.4.0, which is below the recommended minimum of 5.5.0; this can cause the process to hang. It is recommended to upgrade the kernel to the minimum version or higher.\n",
       "</span></pre>\n"
      ],
      "text/plain": [
       "\u001b[31mDetected kernel version 4.4.0, which is below the recommended minimum of 5.5.0; this can cause the process to hang. It is recommended to upgrade the kernel to the minimum version or higher.\n",
       "\u001b[0m"
      ]
     },
     "metadata": {},
     "output_type": "display_data"
    },
    {
     "data": {
      "text/html": [
       "<pre style=\"white-space:pre;overflow-x:auto;line-height:normal;font-family:Menlo,'DejaVu Sans Mono',consolas,'Courier New',monospace\"><span style=\"color: #800000; text-decoration-color: #800000\">No label_names provided for model class `PeftModelForSequenceClassification`. Since `PeftModel` hides base models input arguments, if label_names is not given, label_names can't be set automatically within `Trainer`. Note that empty label_names list will be used instead.\n",
       "</span></pre>\n"
      ],
      "text/plain": [
       "\u001b[31mNo label_names provided for model class `PeftModelForSequenceClassification`. Since `PeftModel` hides base models input arguments, if label_names is not given, label_names can't be set automatically within `Trainer`. Note that empty label_names list will be used instead.\n",
       "\u001b[0m"
      ]
     },
     "metadata": {},
     "output_type": "display_data"
    },
    {
     "data": {
      "text/html": [
       "<pre style=\"white-space:pre;overflow-x:auto;line-height:normal;font-family:Menlo,'DejaVu Sans Mono',consolas,'Courier New',monospace\"><span style=\"color: #000080; text-decoration-color: #000080\">Training model...\n",
       "</span></pre>\n"
      ],
      "text/plain": [
       "\u001b[34mTraining model...\n",
       "\u001b[0m"
      ]
     },
     "metadata": {},
     "output_type": "display_data"
    },
    {
     "data": {
      "text/html": [
       "<pre style=\"white-space:pre;overflow-x:auto;line-height:normal;font-family:Menlo,'DejaVu Sans Mono',consolas,'Courier New',monospace\"><span style=\"color: #800000; text-decoration-color: #800000\">C:\\Users\\Sayantan Datta\\AppData\\Local\\Temp\\ipykernel_184124\\743799161.py:81: UserWarning: To copy construct from a tensor, it is recommended to use sourceTensor.clone().detach() or sourceTensor.clone().detach().requires_grad_(True), rather than torch.tensor(sourceTensor).\n",
       "</span></pre>\n"
      ],
      "text/plain": [
       "\u001b[31mC:\\Users\\Sayantan Datta\\AppData\\Local\\Temp\\ipykernel_184124\\743799161.py:81: UserWarning: To copy construct from a tensor, it is recommended to use sourceTensor.clone().detach() or sourceTensor.clone().detach().requires_grad_(True), rather than torch.tensor(sourceTensor).\n",
       "\u001b[0m"
      ]
     },
     "metadata": {},
     "output_type": "display_data"
    },
    {
     "data": {
      "text/html": [
       "<pre style=\"white-space:pre;overflow-x:auto;line-height:normal;font-family:Menlo,'DejaVu Sans Mono',consolas,'Courier New',monospace\"><span style=\"color: #000080; text-decoration-color: #000080\"></span></pre>\n"
      ],
      "text/plain": []
     },
     "metadata": {},
     "output_type": "display_data"
    },
    {
     "data": {
      "text/html": [
       "<pre style=\"white-space:pre;overflow-x:auto;line-height:normal;font-family:Menlo,'DejaVu Sans Mono',consolas,'Courier New',monospace\"><span style=\"color: #000080; text-decoration-color: #000080\">{'loss': 0.3985, 'grad_norm': 1.244328498840332, 'learning_rate': 1.6001028013364176e-05, 'epoch': 1.0}\n",
       "</span></pre>\n"
      ],
      "text/plain": [
       "\u001b[34m{'loss': 0.3985, 'grad_norm': 1.244328498840332, 'learning_rate': 1.6001028013364176e-05, 'epoch': 1.0}\n",
       "\u001b[0m"
      ]
     },
     "metadata": {},
     "output_type": "display_data"
    },
    {
     "data": {
      "text/html": [
       "<pre style=\"white-space:pre;overflow-x:auto;line-height:normal;font-family:Menlo,'DejaVu Sans Mono',consolas,'Courier New',monospace\"><span style=\"color: #000080; text-decoration-color: #000080\"></span></pre>\n"
      ],
      "text/plain": []
     },
     "metadata": {},
     "output_type": "display_data"
    },
    {
     "data": {
      "text/html": [
       "<pre style=\"white-space:pre;overflow-x:auto;line-height:normal;font-family:Menlo,'DejaVu Sans Mono',consolas,'Courier New',monospace\"><span style=\"color: #000080; text-decoration-color: #000080\">{'eval_loss': 0.36690011620521545, 'eval_runtime': 21.2701, 'eval_samples_per_second': 516.687, 'eval_steps_per_second': 32.299, 'epoch': 1.0}\n",
       "</span></pre>\n"
      ],
      "text/plain": [
       "\u001b[34m{'eval_loss': 0.36690011620521545, 'eval_runtime': 21.2701, 'eval_samples_per_second': 516.687, 'eval_steps_per_second': 32.299, 'epoch': 1.0}\n",
       "\u001b[0m"
      ]
     },
     "metadata": {},
     "output_type": "display_data"
    },
    {
     "data": {
      "text/html": [
       "<pre style=\"white-space:pre;overflow-x:auto;line-height:normal;font-family:Menlo,'DejaVu Sans Mono',consolas,'Courier New',monospace\"><span style=\"color: #800000; text-decoration-color: #800000\">C:\\Users\\Sayantan Datta\\AppData\\Local\\Temp\\ipykernel_184124\\743799161.py:81: UserWarning: To copy construct from a tensor, it is recommended to use sourceTensor.clone().detach() or sourceTensor.clone().detach().requires_grad_(True), rather than torch.tensor(sourceTensor).\n",
       "</span></pre>\n"
      ],
      "text/plain": [
       "\u001b[31mC:\\Users\\Sayantan Datta\\AppData\\Local\\Temp\\ipykernel_184124\\743799161.py:81: UserWarning: To copy construct from a tensor, it is recommended to use sourceTensor.clone().detach() or sourceTensor.clone().detach().requires_grad_(True), rather than torch.tensor(sourceTensor).\n",
       "\u001b[0m"
      ]
     },
     "metadata": {},
     "output_type": "display_data"
    },
    {
     "data": {
      "text/html": [
       "<pre style=\"white-space:pre;overflow-x:auto;line-height:normal;font-family:Menlo,'DejaVu Sans Mono',consolas,'Courier New',monospace\"><span style=\"color: #000080; text-decoration-color: #000080\"></span></pre>\n"
      ],
      "text/plain": []
     },
     "metadata": {},
     "output_type": "display_data"
    },
    {
     "data": {
      "text/html": [
       "<pre style=\"white-space:pre;overflow-x:auto;line-height:normal;font-family:Menlo,'DejaVu Sans Mono',consolas,'Courier New',monospace\"><span style=\"color: #000080; text-decoration-color: #000080\">{'loss': 0.3692, 'grad_norm': 1.3204565048217773, 'learning_rate': 1.2001028013364175e-05, 'epoch': 2.0}\n",
       "</span></pre>\n"
      ],
      "text/plain": [
       "\u001b[34m{'loss': 0.3692, 'grad_norm': 1.3204565048217773, 'learning_rate': 1.2001028013364175e-05, 'epoch': 2.0}\n",
       "\u001b[0m"
      ]
     },
     "metadata": {},
     "output_type": "display_data"
    },
    {
     "data": {
      "text/html": [
       "<pre style=\"white-space:pre;overflow-x:auto;line-height:normal;font-family:Menlo,'DejaVu Sans Mono',consolas,'Courier New',monospace\"><span style=\"color: #000080; text-decoration-color: #000080\"></span></pre>\n"
      ],
      "text/plain": []
     },
     "metadata": {},
     "output_type": "display_data"
    },
    {
     "data": {
      "text/html": [
       "<pre style=\"white-space:pre;overflow-x:auto;line-height:normal;font-family:Menlo,'DejaVu Sans Mono',consolas,'Courier New',monospace\"><span style=\"color: #000080; text-decoration-color: #000080\">{'eval_loss': 0.3588189482688904, 'eval_runtime': 21.3635, 'eval_samples_per_second': 514.429, 'eval_steps_per_second': 32.158, 'epoch': 2.0}\n",
       "</span></pre>\n"
      ],
      "text/plain": [
       "\u001b[34m{'eval_loss': 0.3588189482688904, 'eval_runtime': 21.3635, 'eval_samples_per_second': 514.429, 'eval_steps_per_second': 32.158, 'epoch': 2.0}\n",
       "\u001b[0m"
      ]
     },
     "metadata": {},
     "output_type": "display_data"
    },
    {
     "data": {
      "text/html": [
       "<pre style=\"white-space:pre;overflow-x:auto;line-height:normal;font-family:Menlo,'DejaVu Sans Mono',consolas,'Courier New',monospace\"><span style=\"color: #800000; text-decoration-color: #800000\">C:\\Users\\Sayantan Datta\\AppData\\Local\\Temp\\ipykernel_184124\\743799161.py:81: UserWarning: To copy construct from a tensor, it is recommended to use sourceTensor.clone().detach() or sourceTensor.clone().detach().requires_grad_(True), rather than torch.tensor(sourceTensor).\n",
       "</span></pre>\n"
      ],
      "text/plain": [
       "\u001b[31mC:\\Users\\Sayantan Datta\\AppData\\Local\\Temp\\ipykernel_184124\\743799161.py:81: UserWarning: To copy construct from a tensor, it is recommended to use sourceTensor.clone().detach() or sourceTensor.clone().detach().requires_grad_(True), rather than torch.tensor(sourceTensor).\n",
       "\u001b[0m"
      ]
     },
     "metadata": {},
     "output_type": "display_data"
    },
    {
     "data": {
      "text/html": [
       "<pre style=\"white-space:pre;overflow-x:auto;line-height:normal;font-family:Menlo,'DejaVu Sans Mono',consolas,'Courier New',monospace\"><span style=\"color: #000080; text-decoration-color: #000080\"></span></pre>\n"
      ],
      "text/plain": []
     },
     "metadata": {},
     "output_type": "display_data"
    },
    {
     "data": {
      "text/html": [
       "<pre style=\"white-space:pre;overflow-x:auto;line-height:normal;font-family:Menlo,'DejaVu Sans Mono',consolas,'Courier New',monospace\"><span style=\"color: #000080; text-decoration-color: #000080\">{'loss': 0.364, 'grad_norm': 1.6385289430618286, 'learning_rate': 8.001028013364174e-06, 'epoch': 3.0}\n",
       "</span></pre>\n"
      ],
      "text/plain": [
       "\u001b[34m{'loss': 0.364, 'grad_norm': 1.6385289430618286, 'learning_rate': 8.001028013364174e-06, 'epoch': 3.0}\n",
       "\u001b[0m"
      ]
     },
     "metadata": {},
     "output_type": "display_data"
    },
    {
     "data": {
      "text/html": [
       "<pre style=\"white-space:pre;overflow-x:auto;line-height:normal;font-family:Menlo,'DejaVu Sans Mono',consolas,'Courier New',monospace\"><span style=\"color: #000080; text-decoration-color: #000080\"></span></pre>\n"
      ],
      "text/plain": []
     },
     "metadata": {},
     "output_type": "display_data"
    },
    {
     "data": {
      "text/html": [
       "<pre style=\"white-space:pre;overflow-x:auto;line-height:normal;font-family:Menlo,'DejaVu Sans Mono',consolas,'Courier New',monospace\"><span style=\"color: #000080; text-decoration-color: #000080\">{'eval_loss': 0.356589674949646, 'eval_runtime': 21.3326, 'eval_samples_per_second': 515.174, 'eval_steps_per_second': 32.204, 'epoch': 3.0}\n",
       "</span></pre>\n"
      ],
      "text/plain": [
       "\u001b[34m{'eval_loss': 0.356589674949646, 'eval_runtime': 21.3326, 'eval_samples_per_second': 515.174, 'eval_steps_per_second': 32.204, 'epoch': 3.0}\n",
       "\u001b[0m"
      ]
     },
     "metadata": {},
     "output_type": "display_data"
    },
    {
     "data": {
      "text/html": [
       "<pre style=\"white-space:pre;overflow-x:auto;line-height:normal;font-family:Menlo,'DejaVu Sans Mono',consolas,'Courier New',monospace\"><span style=\"color: #800000; text-decoration-color: #800000\">C:\\Users\\Sayantan Datta\\AppData\\Local\\Temp\\ipykernel_184124\\743799161.py:81: UserWarning: To copy construct from a tensor, it is recommended to use sourceTensor.clone().detach() or sourceTensor.clone().detach().requires_grad_(True), rather than torch.tensor(sourceTensor).\n",
       "</span></pre>\n"
      ],
      "text/plain": [
       "\u001b[31mC:\\Users\\Sayantan Datta\\AppData\\Local\\Temp\\ipykernel_184124\\743799161.py:81: UserWarning: To copy construct from a tensor, it is recommended to use sourceTensor.clone().detach() or sourceTensor.clone().detach().requires_grad_(True), rather than torch.tensor(sourceTensor).\n",
       "\u001b[0m"
      ]
     },
     "metadata": {},
     "output_type": "display_data"
    },
    {
     "data": {
      "text/html": [
       "<pre style=\"white-space:pre;overflow-x:auto;line-height:normal;font-family:Menlo,'DejaVu Sans Mono',consolas,'Courier New',monospace\"><span style=\"color: #000080; text-decoration-color: #000080\"></span></pre>\n"
      ],
      "text/plain": []
     },
     "metadata": {},
     "output_type": "display_data"
    },
    {
     "data": {
      "text/html": [
       "<pre style=\"white-space:pre;overflow-x:auto;line-height:normal;font-family:Menlo,'DejaVu Sans Mono',consolas,'Courier New',monospace\"><span style=\"color: #000080; text-decoration-color: #000080\">{'loss': 0.3616, 'grad_norm': 1.6932705640792847, 'learning_rate': 4.0010280133641735e-06, 'epoch': 4.0}\n",
       "</span></pre>\n"
      ],
      "text/plain": [
       "\u001b[34m{'loss': 0.3616, 'grad_norm': 1.6932705640792847, 'learning_rate': 4.0010280133641735e-06, 'epoch': 4.0}\n",
       "\u001b[0m"
      ]
     },
     "metadata": {},
     "output_type": "display_data"
    },
    {
     "data": {
      "text/html": [
       "<pre style=\"white-space:pre;overflow-x:auto;line-height:normal;font-family:Menlo,'DejaVu Sans Mono',consolas,'Courier New',monospace\"><span style=\"color: #000080; text-decoration-color: #000080\"></span></pre>\n"
      ],
      "text/plain": []
     },
     "metadata": {},
     "output_type": "display_data"
    },
    {
     "data": {
      "text/html": [
       "<pre style=\"white-space:pre;overflow-x:auto;line-height:normal;font-family:Menlo,'DejaVu Sans Mono',consolas,'Courier New',monospace\"><span style=\"color: #000080; text-decoration-color: #000080\">{'eval_loss': 0.3551400899887085, 'eval_runtime': 21.3644, 'eval_samples_per_second': 514.408, 'eval_steps_per_second': 32.156, 'epoch': 4.0}\n",
       "</span></pre>\n"
      ],
      "text/plain": [
       "\u001b[34m{'eval_loss': 0.3551400899887085, 'eval_runtime': 21.3644, 'eval_samples_per_second': 514.408, 'eval_steps_per_second': 32.156, 'epoch': 4.0}\n",
       "\u001b[0m"
      ]
     },
     "metadata": {},
     "output_type": "display_data"
    },
    {
     "data": {
      "text/html": [
       "<pre style=\"white-space:pre;overflow-x:auto;line-height:normal;font-family:Menlo,'DejaVu Sans Mono',consolas,'Courier New',monospace\"><span style=\"color: #800000; text-decoration-color: #800000\">C:\\Users\\Sayantan Datta\\AppData\\Local\\Temp\\ipykernel_184124\\743799161.py:81: UserWarning: To copy construct from a tensor, it is recommended to use sourceTensor.clone().detach() or sourceTensor.clone().detach().requires_grad_(True), rather than torch.tensor(sourceTensor).\n",
       "</span></pre>\n"
      ],
      "text/plain": [
       "\u001b[31mC:\\Users\\Sayantan Datta\\AppData\\Local\\Temp\\ipykernel_184124\\743799161.py:81: UserWarning: To copy construct from a tensor, it is recommended to use sourceTensor.clone().detach() or sourceTensor.clone().detach().requires_grad_(True), rather than torch.tensor(sourceTensor).\n",
       "\u001b[0m"
      ]
     },
     "metadata": {},
     "output_type": "display_data"
    },
    {
     "data": {
      "text/html": [
       "<pre style=\"white-space:pre;overflow-x:auto;line-height:normal;font-family:Menlo,'DejaVu Sans Mono',consolas,'Courier New',monospace\"><span style=\"color: #000080; text-decoration-color: #000080\"></span></pre>\n"
      ],
      "text/plain": []
     },
     "metadata": {},
     "output_type": "display_data"
    },
    {
     "data": {
      "text/html": [
       "<pre style=\"white-space:pre;overflow-x:auto;line-height:normal;font-family:Menlo,'DejaVu Sans Mono',consolas,'Courier New',monospace\"><span style=\"color: #000080; text-decoration-color: #000080\">{'loss': 0.3598, 'grad_norm': 1.7339448928833008, 'learning_rate': 1.0280133641737343e-09, 'epoch': 5.0}\n",
       "</span></pre>\n"
      ],
      "text/plain": [
       "\u001b[34m{'loss': 0.3598, 'grad_norm': 1.7339448928833008, 'learning_rate': 1.0280133641737343e-09, 'epoch': 5.0}\n",
       "\u001b[0m"
      ]
     },
     "metadata": {},
     "output_type": "display_data"
    },
    {
     "data": {
      "text/html": [
       "<pre style=\"white-space:pre;overflow-x:auto;line-height:normal;font-family:Menlo,'DejaVu Sans Mono',consolas,'Courier New',monospace\"><span style=\"color: #000080; text-decoration-color: #000080\"></span></pre>\n"
      ],
      "text/plain": []
     },
     "metadata": {},
     "output_type": "display_data"
    },
    {
     "data": {
      "text/html": [
       "<pre style=\"white-space:pre;overflow-x:auto;line-height:normal;font-family:Menlo,'DejaVu Sans Mono',consolas,'Courier New',monospace\"><span style=\"color: #000080; text-decoration-color: #000080\">{'eval_loss': 0.3546397387981415, 'eval_runtime': 21.4017, 'eval_samples_per_second': 513.511, 'eval_steps_per_second': 32.1, 'epoch': 5.0}\n",
       "</span></pre>\n"
      ],
      "text/plain": [
       "\u001b[34m{'eval_loss': 0.3546397387981415, 'eval_runtime': 21.4017, 'eval_samples_per_second': 513.511, 'eval_steps_per_second': 32.1, 'epoch': 5.0}\n",
       "\u001b[0m"
      ]
     },
     "metadata": {},
     "output_type": "display_data"
    },
    {
     "data": {
      "text/html": [
       "<pre style=\"white-space:pre;overflow-x:auto;line-height:normal;font-family:Menlo,'DejaVu Sans Mono',consolas,'Courier New',monospace\"><span style=\"color: #000080; text-decoration-color: #000080\"></span></pre>\n"
      ],
      "text/plain": []
     },
     "metadata": {},
     "output_type": "display_data"
    },
    {
     "data": {
      "text/html": [
       "<pre style=\"white-space:pre;overflow-x:auto;line-height:normal;font-family:Menlo,'DejaVu Sans Mono',consolas,'Courier New',monospace\"><span style=\"color: #000080; text-decoration-color: #000080\">{'train_runtime': 1439.0551, 'train_samples_per_second': 216.277, 'train_steps_per_second': 13.519, 'train_loss': 0.3706183251915478, 'epoch': 5.0}\n",
       "</span></pre>\n"
      ],
      "text/plain": [
       "\u001b[34m{'train_runtime': 1439.0551, 'train_samples_per_second': 216.277, 'train_steps_per_second': 13.519, 'train_loss': 0.3706183251915478, 'epoch': 5.0}\n",
       "\u001b[0m"
      ]
     },
     "metadata": {},
     "output_type": "display_data"
    },
    {
     "data": {
      "text/html": [
       "<pre style=\"white-space:pre;overflow-x:auto;line-height:normal;font-family:Menlo,'DejaVu Sans Mono',consolas,'Courier New',monospace\"><span style=\"color: #000080; text-decoration-color: #000080\">\n",
       "===== EVALUATING MODEL =====\n",
       "Loading test data...\n",
       "</span></pre>\n"
      ],
      "text/plain": [
       "\u001b[34m\n",
       "===== EVALUATING MODEL =====\n",
       "Loading test data...\n",
       "\u001b[0m"
      ]
     },
     "metadata": {},
     "output_type": "display_data"
    },
    {
     "data": {
      "text/html": [
       "<pre style=\"white-space:pre;overflow-x:auto;line-height:normal;font-family:Menlo,'DejaVu Sans Mono',consolas,'Courier New',monospace\"><span style=\"color: #800000; text-decoration-color: #800000\">\n",
       "</span></pre>\n"
      ],
      "text/plain": [
       "\u001b[31m\n",
       "\u001b[0m"
      ]
     },
     "metadata": {},
     "output_type": "display_data"
    },
    {
     "data": {
      "text/html": [
       "<pre style=\"white-space:pre;overflow-x:auto;line-height:normal;font-family:Menlo,'DejaVu Sans Mono',consolas,'Courier New',monospace\"><span style=\"color: #800000; text-decoration-color: #800000\">\u001b[1AMap:   0%|          | 0/18315 [00:00&lt;?, ? examples/s]\n",
       "</span></pre>\n"
      ],
      "text/plain": [
       "\u001b[31m\u001b[1AMap:   0%|          | 0/18315 [00:00<?, ? examples/s]\n",
       "\u001b[0m"
      ]
     },
     "metadata": {},
     "output_type": "display_data"
    },
    {
     "data": {
      "text/html": [
       "<pre style=\"white-space:pre;overflow-x:auto;line-height:normal;font-family:Menlo,'DejaVu Sans Mono',consolas,'Courier New',monospace\"><span style=\"color: #800000; text-decoration-color: #800000\">\u001b[1AMap:   5%|▌         | 1000/18315 [00:00&lt;00:02, 8045.39 examples/s]\n",
       "</span></pre>\n"
      ],
      "text/plain": [
       "\u001b[31m\u001b[1AMap:   5%|▌         | 1000/18315 [00:00<00:02, 8045.39 examples/s]\n",
       "\u001b[0m"
      ]
     },
     "metadata": {},
     "output_type": "display_data"
    },
    {
     "data": {
      "text/html": [
       "<pre style=\"white-space:pre;overflow-x:auto;line-height:normal;font-family:Menlo,'DejaVu Sans Mono',consolas,'Courier New',monospace\"><span style=\"color: #800000; text-decoration-color: #800000\">\u001b[1AMap:  11%|█         | 2000/18315 [00:00&lt;00:02, 7766.68 examples/s]\n",
       "</span></pre>\n"
      ],
      "text/plain": [
       "\u001b[31m\u001b[1AMap:  11%|█         | 2000/18315 [00:00<00:02, 7766.68 examples/s]\n",
       "\u001b[0m"
      ]
     },
     "metadata": {},
     "output_type": "display_data"
    },
    {
     "data": {
      "text/html": [
       "<pre style=\"white-space:pre;overflow-x:auto;line-height:normal;font-family:Menlo,'DejaVu Sans Mono',consolas,'Courier New',monospace\"><span style=\"color: #800000; text-decoration-color: #800000\">\u001b[1AMap:  16%|█▋        | 3000/18315 [00:00&lt;00:01, 7826.20 examples/s]\n",
       "</span></pre>\n"
      ],
      "text/plain": [
       "\u001b[31m\u001b[1AMap:  16%|█▋        | 3000/18315 [00:00<00:01, 7826.20 examples/s]\n",
       "\u001b[0m"
      ]
     },
     "metadata": {},
     "output_type": "display_data"
    },
    {
     "data": {
      "text/html": [
       "<pre style=\"white-space:pre;overflow-x:auto;line-height:normal;font-family:Menlo,'DejaVu Sans Mono',consolas,'Courier New',monospace\"><span style=\"color: #800000; text-decoration-color: #800000\">\u001b[1AMap:  22%|██▏       | 4000/18315 [00:00&lt;00:01, 7915.51 examples/s]\n",
       "</span></pre>\n"
      ],
      "text/plain": [
       "\u001b[31m\u001b[1AMap:  22%|██▏       | 4000/18315 [00:00<00:01, 7915.51 examples/s]\n",
       "\u001b[0m"
      ]
     },
     "metadata": {},
     "output_type": "display_data"
    },
    {
     "data": {
      "text/html": [
       "<pre style=\"white-space:pre;overflow-x:auto;line-height:normal;font-family:Menlo,'DejaVu Sans Mono',consolas,'Courier New',monospace\"><span style=\"color: #800000; text-decoration-color: #800000\">\u001b[1AMap:  27%|██▋       | 5000/18315 [00:00&lt;00:01, 7870.01 examples/s]\n",
       "</span></pre>\n"
      ],
      "text/plain": [
       "\u001b[31m\u001b[1AMap:  27%|██▋       | 5000/18315 [00:00<00:01, 7870.01 examples/s]\n",
       "\u001b[0m"
      ]
     },
     "metadata": {},
     "output_type": "display_data"
    },
    {
     "data": {
      "text/html": [
       "<pre style=\"white-space:pre;overflow-x:auto;line-height:normal;font-family:Menlo,'DejaVu Sans Mono',consolas,'Courier New',monospace\"><span style=\"color: #800000; text-decoration-color: #800000\">\u001b[1AMap:  33%|███▎      | 6000/18315 [00:00&lt;00:01, 8004.49 examples/s]\n",
       "</span></pre>\n"
      ],
      "text/plain": [
       "\u001b[31m\u001b[1AMap:  33%|███▎      | 6000/18315 [00:00<00:01, 8004.49 examples/s]\n",
       "\u001b[0m"
      ]
     },
     "metadata": {},
     "output_type": "display_data"
    },
    {
     "data": {
      "text/html": [
       "<pre style=\"white-space:pre;overflow-x:auto;line-height:normal;font-family:Menlo,'DejaVu Sans Mono',consolas,'Courier New',monospace\"><span style=\"color: #800000; text-decoration-color: #800000\">\u001b[1AMap:  38%|███▊      | 7000/18315 [00:00&lt;00:01, 8023.62 examples/s]\n",
       "</span></pre>\n"
      ],
      "text/plain": [
       "\u001b[31m\u001b[1AMap:  38%|███▊      | 7000/18315 [00:00<00:01, 8023.62 examples/s]\n",
       "\u001b[0m"
      ]
     },
     "metadata": {},
     "output_type": "display_data"
    },
    {
     "data": {
      "text/html": [
       "<pre style=\"white-space:pre;overflow-x:auto;line-height:normal;font-family:Menlo,'DejaVu Sans Mono',consolas,'Courier New',monospace\"><span style=\"color: #800000; text-decoration-color: #800000\">\u001b[1AMap:  44%|████▎     | 8000/18315 [00:01&lt;00:01, 7769.89 examples/s]\n",
       "</span></pre>\n"
      ],
      "text/plain": [
       "\u001b[31m\u001b[1AMap:  44%|████▎     | 8000/18315 [00:01<00:01, 7769.89 examples/s]\n",
       "\u001b[0m"
      ]
     },
     "metadata": {},
     "output_type": "display_data"
    },
    {
     "data": {
      "text/html": [
       "<pre style=\"white-space:pre;overflow-x:auto;line-height:normal;font-family:Menlo,'DejaVu Sans Mono',consolas,'Courier New',monospace\"><span style=\"color: #800000; text-decoration-color: #800000\">\u001b[1AMap:  49%|████▉     | 9000/18315 [00:01&lt;00:01, 7944.40 examples/s]\n",
       "</span></pre>\n"
      ],
      "text/plain": [
       "\u001b[31m\u001b[1AMap:  49%|████▉     | 9000/18315 [00:01<00:01, 7944.40 examples/s]\n",
       "\u001b[0m"
      ]
     },
     "metadata": {},
     "output_type": "display_data"
    },
    {
     "data": {
      "text/html": [
       "<pre style=\"white-space:pre;overflow-x:auto;line-height:normal;font-family:Menlo,'DejaVu Sans Mono',consolas,'Courier New',monospace\"><span style=\"color: #800000; text-decoration-color: #800000\">\u001b[1AMap:  55%|█████▍    | 10000/18315 [00:01&lt;00:01, 7959.01 examples/s]\n",
       "</span></pre>\n"
      ],
      "text/plain": [
       "\u001b[31m\u001b[1AMap:  55%|█████▍    | 10000/18315 [00:01<00:01, 7959.01 examples/s]\n",
       "\u001b[0m"
      ]
     },
     "metadata": {},
     "output_type": "display_data"
    },
    {
     "data": {
      "text/html": [
       "<pre style=\"white-space:pre;overflow-x:auto;line-height:normal;font-family:Menlo,'DejaVu Sans Mono',consolas,'Courier New',monospace\"><span style=\"color: #800000; text-decoration-color: #800000\">\u001b[1AMap:  60%|██████    | 11000/18315 [00:01&lt;00:00, 8015.16 examples/s]\n",
       "</span></pre>\n"
      ],
      "text/plain": [
       "\u001b[31m\u001b[1AMap:  60%|██████    | 11000/18315 [00:01<00:00, 8015.16 examples/s]\n",
       "\u001b[0m"
      ]
     },
     "metadata": {},
     "output_type": "display_data"
    },
    {
     "data": {
      "text/html": [
       "<pre style=\"white-space:pre;overflow-x:auto;line-height:normal;font-family:Menlo,'DejaVu Sans Mono',consolas,'Courier New',monospace\"><span style=\"color: #800000; text-decoration-color: #800000\">\u001b[1AMap:  66%|██████▌   | 12000/18315 [00:01&lt;00:00, 8154.23 examples/s]\n",
       "</span></pre>\n"
      ],
      "text/plain": [
       "\u001b[31m\u001b[1AMap:  66%|██████▌   | 12000/18315 [00:01<00:00, 8154.23 examples/s]\n",
       "\u001b[0m"
      ]
     },
     "metadata": {},
     "output_type": "display_data"
    },
    {
     "data": {
      "text/html": [
       "<pre style=\"white-space:pre;overflow-x:auto;line-height:normal;font-family:Menlo,'DejaVu Sans Mono',consolas,'Courier New',monospace\"><span style=\"color: #800000; text-decoration-color: #800000\">\u001b[1AMap:  71%|███████   | 13000/18315 [00:01&lt;00:00, 8264.83 examples/s]\n",
       "</span></pre>\n"
      ],
      "text/plain": [
       "\u001b[31m\u001b[1AMap:  71%|███████   | 13000/18315 [00:01<00:00, 8264.83 examples/s]\n",
       "\u001b[0m"
      ]
     },
     "metadata": {},
     "output_type": "display_data"
    },
    {
     "data": {
      "text/html": [
       "<pre style=\"white-space:pre;overflow-x:auto;line-height:normal;font-family:Menlo,'DejaVu Sans Mono',consolas,'Courier New',monospace\"><span style=\"color: #800000; text-decoration-color: #800000\">\u001b[1AMap:  76%|███████▋  | 14000/18315 [00:01&lt;00:00, 8320.07 examples/s]\n",
       "</span></pre>\n"
      ],
      "text/plain": [
       "\u001b[31m\u001b[1AMap:  76%|███████▋  | 14000/18315 [00:01<00:00, 8320.07 examples/s]\n",
       "\u001b[0m"
      ]
     },
     "metadata": {},
     "output_type": "display_data"
    },
    {
     "data": {
      "text/html": [
       "<pre style=\"white-space:pre;overflow-x:auto;line-height:normal;font-family:Menlo,'DejaVu Sans Mono',consolas,'Courier New',monospace\"><span style=\"color: #800000; text-decoration-color: #800000\">\u001b[1AMap:  82%|████████▏ | 15000/18315 [00:01&lt;00:00, 8328.89 examples/s]\n",
       "</span></pre>\n"
      ],
      "text/plain": [
       "\u001b[31m\u001b[1AMap:  82%|████████▏ | 15000/18315 [00:01<00:00, 8328.89 examples/s]\n",
       "\u001b[0m"
      ]
     },
     "metadata": {},
     "output_type": "display_data"
    },
    {
     "data": {
      "text/html": [
       "<pre style=\"white-space:pre;overflow-x:auto;line-height:normal;font-family:Menlo,'DejaVu Sans Mono',consolas,'Courier New',monospace\"><span style=\"color: #800000; text-decoration-color: #800000\">\u001b[1AMap:  87%|████████▋ | 16000/18315 [00:01&lt;00:00, 8322.95 examples/s]\n",
       "</span></pre>\n"
      ],
      "text/plain": [
       "\u001b[31m\u001b[1AMap:  87%|████████▋ | 16000/18315 [00:01<00:00, 8322.95 examples/s]\n",
       "\u001b[0m"
      ]
     },
     "metadata": {},
     "output_type": "display_data"
    },
    {
     "data": {
      "text/html": [
       "<pre style=\"white-space:pre;overflow-x:auto;line-height:normal;font-family:Menlo,'DejaVu Sans Mono',consolas,'Courier New',monospace\"><span style=\"color: #800000; text-decoration-color: #800000\">\u001b[1AMap:  93%|█████████▎| 17000/18315 [00:02&lt;00:00, 7745.20 examples/s]\n",
       "</span></pre>\n"
      ],
      "text/plain": [
       "\u001b[31m\u001b[1AMap:  93%|█████████▎| 17000/18315 [00:02<00:00, 7745.20 examples/s]\n",
       "\u001b[0m"
      ]
     },
     "metadata": {},
     "output_type": "display_data"
    },
    {
     "data": {
      "text/html": [
       "<pre style=\"white-space:pre;overflow-x:auto;line-height:normal;font-family:Menlo,'DejaVu Sans Mono',consolas,'Courier New',monospace\"><span style=\"color: #800000; text-decoration-color: #800000\">\u001b[1AMap:  98%|█████████▊| 18000/18315 [00:02&lt;00:00, 7904.52 examples/s]\n",
       "</span></pre>\n"
      ],
      "text/plain": [
       "\u001b[31m\u001b[1AMap:  98%|█████████▊| 18000/18315 [00:02<00:00, 7904.52 examples/s]\n",
       "\u001b[0m"
      ]
     },
     "metadata": {},
     "output_type": "display_data"
    },
    {
     "data": {
      "text/html": [
       "<pre style=\"white-space:pre;overflow-x:auto;line-height:normal;font-family:Menlo,'DejaVu Sans Mono',consolas,'Courier New',monospace\"><span style=\"color: #000080; text-decoration-color: #000080\">Running predictions...\n",
       "</span></pre>\n"
      ],
      "text/plain": [
       "\u001b[34mRunning predictions...\n",
       "\u001b[0m"
      ]
     },
     "metadata": {},
     "output_type": "display_data"
    },
    {
     "data": {
      "text/html": [
       "<pre style=\"white-space:pre;overflow-x:auto;line-height:normal;font-family:Menlo,'DejaVu Sans Mono',consolas,'Courier New',monospace\"><span style=\"color: #800000; text-decoration-color: #800000\">\u001b[1AMap: 100%|██████████| 18315/18315 [00:02&lt;00:00, 7993.94 examples/s]\n",
       "</span></pre>\n"
      ],
      "text/plain": [
       "\u001b[31m\u001b[1AMap: 100%|██████████| 18315/18315 [00:02<00:00, 7993.94 examples/s]\n",
       "\u001b[0m"
      ]
     },
     "metadata": {},
     "output_type": "display_data"
    },
    {
     "data": {
      "text/html": [
       "<pre style=\"white-space:pre;overflow-x:auto;line-height:normal;font-family:Menlo,'DejaVu Sans Mono',consolas,'Courier New',monospace\"><span style=\"color: #000080; text-decoration-color: #000080\">\n",
       "</span></pre>\n"
      ],
      "text/plain": [
       "\u001b[34m\n",
       "\u001b[0m"
      ]
     },
     "metadata": {},
     "output_type": "display_data"
    },
    {
     "data": {
      "text/html": [
       "<pre style=\"white-space:pre;overflow-x:auto;line-height:normal;font-family:Menlo,'DejaVu Sans Mono',consolas,'Courier New',monospace\"><span style=\"color: #000080; text-decoration-color: #000080\">===== OVERALL F1 SCORES =====\n",
       "Micro F1: 0.0377\n",
       "Macro F1: 0.0336\n",
       "Weighted F1: 0.0335\n",
       "\n",
       "===== F1 SCORES BY LANGUAGE =====\n",
       "</span></pre>\n"
      ],
      "text/plain": [
       "\u001b[34m===== OVERALL F1 SCORES =====\n",
       "Micro F1: 0.0377\n",
       "Macro F1: 0.0336\n",
       "Weighted F1: 0.0335\n",
       "\n",
       "===== F1 SCORES BY LANGUAGE =====\n",
       "\u001b[0m"
      ]
     },
     "metadata": {},
     "output_type": "display_data"
    },
    {
     "data": {
      "text/html": [
       "<pre style=\"white-space:pre;overflow-x:auto;line-height:normal;font-family:Menlo,'DejaVu Sans Mono',consolas,'Courier New',monospace\"><span style=\"color: #000080; text-decoration-color: #000080\">\n",
       "Language: Greek (Examples: 1617)\n",
       "</span></pre>\n"
      ],
      "text/plain": [
       "\u001b[34m\n",
       "Language: Greek (Examples: 1617)\n",
       "\u001b[0m"
      ]
     },
     "metadata": {},
     "output_type": "display_data"
    },
    {
     "data": {
      "text/html": [
       "<pre style=\"white-space:pre;overflow-x:auto;line-height:normal;font-family:Menlo,'DejaVu Sans Mono',consolas,'Courier New',monospace\"><span style=\"color: #000080; text-decoration-color: #000080\">  Micro F1: 0.0336\n",
       "  Macro F1: 0.0309\n",
       "  Weighted F1: 0.0293\n",
       "</span></pre>\n"
      ],
      "text/plain": [
       "\u001b[34m  Micro F1: 0.0336\n",
       "  Macro F1: 0.0309\n",
       "  Weighted F1: 0.0293\n",
       "\u001b[0m"
      ]
     },
     "metadata": {},
     "output_type": "display_data"
    },
    {
     "data": {
      "text/html": [
       "<pre style=\"white-space:pre;overflow-x:auto;line-height:normal;font-family:Menlo,'DejaVu Sans Mono',consolas,'Courier New',monospace\"><span style=\"color: #000080; text-decoration-color: #000080\">\n",
       "</span></pre>\n"
      ],
      "text/plain": [
       "\u001b[34m\n",
       "\u001b[0m"
      ]
     },
     "metadata": {},
     "output_type": "display_data"
    },
    {
     "data": {
      "text/html": [
       "<pre style=\"white-space:pre;overflow-x:auto;line-height:normal;font-family:Menlo,'DejaVu Sans Mono',consolas,'Courier New',monospace\"><span style=\"color: #000080; text-decoration-color: #000080\">Language: English (Examples: 3506)\n",
       "  Micro F1: 0.0272\n",
       "  Macro F1: 0.0243\n",
       "  Weighted F1: 0.0238\n",
       "</span></pre>\n"
      ],
      "text/plain": [
       "\u001b[34mLanguage: English (Examples: 3506)\n",
       "  Micro F1: 0.0272\n",
       "  Macro F1: 0.0243\n",
       "  Weighted F1: 0.0238\n",
       "\u001b[0m"
      ]
     },
     "metadata": {},
     "output_type": "display_data"
    },
    {
     "data": {
      "text/html": [
       "<pre style=\"white-space:pre;overflow-x:auto;line-height:normal;font-family:Menlo,'DejaVu Sans Mono',consolas,'Courier New',monospace\"><span style=\"color: #000080; text-decoration-color: #000080\">\n",
       "</span></pre>\n"
      ],
      "text/plain": [
       "\u001b[34m\n",
       "\u001b[0m"
      ]
     },
     "metadata": {},
     "output_type": "display_data"
    },
    {
     "data": {
      "text/html": [
       "<pre style=\"white-space:pre;overflow-x:auto;line-height:normal;font-family:Menlo,'DejaVu Sans Mono',consolas,'Courier New',monospace\"><span style=\"color: #000080; text-decoration-color: #000080\">Language: Brazilian (Examples: 2460)\n",
       "  Micro F1: 0.0432\n",
       "  Macro F1: 0.0385\n",
       "  Weighted F1: 0.0385\n",
       "</span></pre>\n"
      ],
      "text/plain": [
       "\u001b[34mLanguage: Brazilian (Examples: 2460)\n",
       "  Micro F1: 0.0432\n",
       "  Macro F1: 0.0385\n",
       "  Weighted F1: 0.0385\n",
       "\u001b[0m"
      ]
     },
     "metadata": {},
     "output_type": "display_data"
    },
    {
     "data": {
      "text/html": [
       "<pre style=\"white-space:pre;overflow-x:auto;line-height:normal;font-family:Menlo,'DejaVu Sans Mono',consolas,'Courier New',monospace\"><span style=\"color: #000080; text-decoration-color: #000080\">\n",
       "Language: Czech (Examples: 1303)\n",
       "  Micro F1: 0.0538\n",
       "  Macro F1: 0.0485\n",
       "  Weighted F1: 0.0482\n",
       "</span></pre>\n"
      ],
      "text/plain": [
       "\u001b[34m\n",
       "Language: Czech (Examples: 1303)\n",
       "  Micro F1: 0.0538\n",
       "  Macro F1: 0.0485\n",
       "  Weighted F1: 0.0482\n",
       "\u001b[0m"
      ]
     },
     "metadata": {},
     "output_type": "display_data"
    },
    {
     "data": {
      "text/html": [
       "<pre style=\"white-space:pre;overflow-x:auto;line-height:normal;font-family:Menlo,'DejaVu Sans Mono',consolas,'Courier New',monospace\"><span style=\"color: #000080; text-decoration-color: #000080\">\n",
       "</span></pre>\n"
      ],
      "text/plain": [
       "\u001b[34m\n",
       "\u001b[0m"
      ]
     },
     "metadata": {},
     "output_type": "display_data"
    },
    {
     "data": {
      "text/html": [
       "<pre style=\"white-space:pre;overflow-x:auto;line-height:normal;font-family:Menlo,'DejaVu Sans Mono',consolas,'Courier New',monospace\"><span style=\"color: #000080; text-decoration-color: #000080\">Language: French (Examples: 1462)\n",
       "  Micro F1: 0.0425\n",
       "  Macro F1: 0.0399\n",
       "  Weighted F1: 0.0384\n",
       "</span></pre>\n"
      ],
      "text/plain": [
       "\u001b[34mLanguage: French (Examples: 1462)\n",
       "  Micro F1: 0.0425\n",
       "  Macro F1: 0.0399\n",
       "  Weighted F1: 0.0384\n",
       "\u001b[0m"
      ]
     },
     "metadata": {},
     "output_type": "display_data"
    },
    {
     "data": {
      "text/html": [
       "<pre style=\"white-space:pre;overflow-x:auto;line-height:normal;font-family:Menlo,'DejaVu Sans Mono',consolas,'Courier New',monospace\"><span style=\"color: #000080; text-decoration-color: #000080\">\n",
       "Language: Polish (Examples: 1436)\n",
       "  Micro F1: 0.0330\n",
       "  Macro F1: 0.0286\n",
       "  Weighted F1: 0.0292\n",
       "</span></pre>\n"
      ],
      "text/plain": [
       "\u001b[34m\n",
       "Language: Polish (Examples: 1436)\n",
       "  Micro F1: 0.0330\n",
       "  Macro F1: 0.0286\n",
       "  Weighted F1: 0.0292\n",
       "\u001b[0m"
      ]
     },
     "metadata": {},
     "output_type": "display_data"
    },
    {
     "data": {
      "text/html": [
       "<pre style=\"white-space:pre;overflow-x:auto;line-height:normal;font-family:Menlo,'DejaVu Sans Mono',consolas,'Courier New',monospace\"><span style=\"color: #000080; text-decoration-color: #000080\">\n",
       "Language: Portuguese (Examples: 1444)\n",
       "</span></pre>\n"
      ],
      "text/plain": [
       "\u001b[34m\n",
       "Language: Portuguese (Examples: 1444)\n",
       "\u001b[0m"
      ]
     },
     "metadata": {},
     "output_type": "display_data"
    },
    {
     "data": {
      "text/html": [
       "<pre style=\"white-space:pre;overflow-x:auto;line-height:normal;font-family:Menlo,'DejaVu Sans Mono',consolas,'Courier New',monospace\"><span style=\"color: #000080; text-decoration-color: #000080\">  Micro F1: 0.0466\n",
       "  Macro F1: 0.0426\n",
       "  Weighted F1: 0.0430\n",
       "</span></pre>\n"
      ],
      "text/plain": [
       "\u001b[34m  Micro F1: 0.0466\n",
       "  Macro F1: 0.0426\n",
       "  Weighted F1: 0.0430\n",
       "\u001b[0m"
      ]
     },
     "metadata": {},
     "output_type": "display_data"
    },
    {
     "data": {
      "text/html": [
       "<pre style=\"white-space:pre;overflow-x:auto;line-height:normal;font-family:Menlo,'DejaVu Sans Mono',consolas,'Courier New',monospace\"><span style=\"color: #000080; text-decoration-color: #000080\">\n",
       "</span></pre>\n"
      ],
      "text/plain": [
       "\u001b[34m\n",
       "\u001b[0m"
      ]
     },
     "metadata": {},
     "output_type": "display_data"
    },
    {
     "data": {
      "text/html": [
       "<pre style=\"white-space:pre;overflow-x:auto;line-height:normal;font-family:Menlo,'DejaVu Sans Mono',consolas,'Courier New',monospace\"><span style=\"color: #000080; text-decoration-color: #000080\">Language: Romanian (Examples: 1895)\n",
       "  Micro F1: 0.0386\n",
       "  Macro F1: 0.0323\n",
       "  Weighted F1: 0.0331\n",
       "</span></pre>\n"
      ],
      "text/plain": [
       "\u001b[34mLanguage: Romanian (Examples: 1895)\n",
       "  Micro F1: 0.0386\n",
       "  Macro F1: 0.0323\n",
       "  Weighted F1: 0.0331\n",
       "\u001b[0m"
      ]
     },
     "metadata": {},
     "output_type": "display_data"
    },
    {
     "data": {
      "text/html": [
       "<pre style=\"white-space:pre;overflow-x:auto;line-height:normal;font-family:Menlo,'DejaVu Sans Mono',consolas,'Courier New',monospace\"><span style=\"color: #000080; text-decoration-color: #000080\">\n",
       "</span></pre>\n"
      ],
      "text/plain": [
       "\u001b[34m\n",
       "\u001b[0m"
      ]
     },
     "metadata": {},
     "output_type": "display_data"
    },
    {
     "data": {
      "text/html": [
       "<pre style=\"white-space:pre;overflow-x:auto;line-height:normal;font-family:Menlo,'DejaVu Sans Mono',consolas,'Courier New',monospace\"><span style=\"color: #000080; text-decoration-color: #000080\">Language: Serbian (Examples: 1797)\n",
       "  Micro F1: 0.0398\n",
       "  Macro F1: 0.0334\n",
       "  Weighted F1: 0.0354\n",
       "</span></pre>\n"
      ],
      "text/plain": [
       "\u001b[34mLanguage: Serbian (Examples: 1797)\n",
       "  Micro F1: 0.0398\n",
       "  Macro F1: 0.0334\n",
       "  Weighted F1: 0.0354\n",
       "\u001b[0m"
      ]
     },
     "metadata": {},
     "output_type": "display_data"
    },
    {
     "data": {
      "text/html": [
       "<pre style=\"white-space:pre;overflow-x:auto;line-height:normal;font-family:Menlo,'DejaVu Sans Mono',consolas,'Courier New',monospace\"><span style=\"color: #000080; text-decoration-color: #000080\">\n",
       "Language: Bulgarian (Examples: 1395)\n",
       "  Micro F1: 0.0291\n",
       "  Macro F1: 0.0273\n",
       "  Weighted F1: 0.0253\n",
       "</span></pre>\n"
      ],
      "text/plain": [
       "\u001b[34m\n",
       "Language: Bulgarian (Examples: 1395)\n",
       "  Micro F1: 0.0291\n",
       "  Macro F1: 0.0273\n",
       "  Weighted F1: 0.0253\n",
       "\u001b[0m"
      ]
     },
     "metadata": {},
     "output_type": "display_data"
    },
    {
     "data": {
      "text/html": [
       "<pre style=\"white-space:pre;overflow-x:auto;line-height:normal;font-family:Menlo,'DejaVu Sans Mono',consolas,'Courier New',monospace\">{'overall': {'micro_f1': 0.03765318808833106, 'macro_f1': 0.03364503303507767, 'weighted_f1': 0.0334924808442884}, \n",
       "'by_language': {'Greek': {'micro_f1': 0.03356831151393085, 'macro_f1': 0.03094221776085616, 'weighted_f1': \n",
       "0.02930467063515055, 'examples': 1617}, 'English': {'micro_f1': 0.02717391304347826, 'macro_f1': \n",
       "0.024295448670924973, 'weighted_f1': 0.023806411461269092, 'examples': 3506}, 'Brazilian': {'micro_f1': \n",
       "0.043174880069777585, 'macro_f1': 0.038483473008634465, 'weighted_f1': 0.03852528141853604, 'examples': 2460}, \n",
       "'Czech': {'micro_f1': 0.053830227743271224, 'macro_f1': 0.04848153279907257, 'weighted_f1': 0.04817914691938104, \n",
       "'examples': 1303}, 'French': {'micro_f1': 0.04250720461095101, 'macro_f1': 0.03989649790431447, 'weighted_f1': \n",
       "0.038437949564546416, 'examples': 1462}, 'Polish': {'micro_f1': 0.03303303303303303, 'macro_f1': \n",
       "0.028560793215087345, 'weighted_f1': 0.029164654986540646, 'examples': 1436}, 'Portuguese': {'micro_f1': \n",
       "0.04664938911514254, 'macro_f1': 0.04262499197013375, 'weighted_f1': 0.0430258230004283, 'examples': 1444}, \n",
       "'Romanian': {'micro_f1': 0.03859250851305335, 'macro_f1': 0.032308348619327146, 'weighted_f1': 0.0330684872661224, \n",
       "'examples': 1895}, 'Serbian': {'micro_f1': 0.039755351681957186, 'macro_f1': 0.03339734523942775, 'weighted_f1': \n",
       "0.03535368863130398, 'examples': 1797}, 'Bulgarian': {'micro_f1': 0.02910762160091919, 'macro_f1': \n",
       "0.027309235700024012, 'weighted_f1': 0.025263268541096957, 'examples': 1395}}}\n",
       "</pre>\n"
      ],
      "text/plain": [
       "{'overall': {'micro_f1': 0.03765318808833106, 'macro_f1': 0.03364503303507767, 'weighted_f1': 0.0334924808442884}, \n",
       "'by_language': {'Greek': {'micro_f1': 0.03356831151393085, 'macro_f1': 0.03094221776085616, 'weighted_f1': \n",
       "0.02930467063515055, 'examples': 1617}, 'English': {'micro_f1': 0.02717391304347826, 'macro_f1': \n",
       "0.024295448670924973, 'weighted_f1': 0.023806411461269092, 'examples': 3506}, 'Brazilian': {'micro_f1': \n",
       "0.043174880069777585, 'macro_f1': 0.038483473008634465, 'weighted_f1': 0.03852528141853604, 'examples': 2460}, \n",
       "'Czech': {'micro_f1': 0.053830227743271224, 'macro_f1': 0.04848153279907257, 'weighted_f1': 0.04817914691938104, \n",
       "'examples': 1303}, 'French': {'micro_f1': 0.04250720461095101, 'macro_f1': 0.03989649790431447, 'weighted_f1': \n",
       "0.038437949564546416, 'examples': 1462}, 'Polish': {'micro_f1': 0.03303303303303303, 'macro_f1': \n",
       "0.028560793215087345, 'weighted_f1': 0.029164654986540646, 'examples': 1436}, 'Portuguese': {'micro_f1': \n",
       "0.04664938911514254, 'macro_f1': 0.04262499197013375, 'weighted_f1': 0.0430258230004283, 'examples': 1444}, \n",
       "'Romanian': {'micro_f1': 0.03859250851305335, 'macro_f1': 0.032308348619327146, 'weighted_f1': 0.0330684872661224, \n",
       "'examples': 1895}, 'Serbian': {'micro_f1': 0.039755351681957186, 'macro_f1': 0.03339734523942775, 'weighted_f1': \n",
       "0.03535368863130398, 'examples': 1797}, 'Bulgarian': {'micro_f1': 0.02910762160091919, 'macro_f1': \n",
       "0.027309235700024012, 'weighted_f1': 0.025263268541096957, 'examples': 1395}}}\n"
      ]
     },
     "metadata": {},
     "output_type": "display_data"
    },
    {
     "data": {
      "text/html": [
       "<pre style=\"white-space:pre;overflow-x:auto;line-height:normal;font-family:Menlo,'DejaVu Sans Mono',consolas,'Courier New',monospace\"></pre>\n"
      ],
      "text/plain": []
     },
     "metadata": {},
     "output_type": "display_data"
    },
    {
     "data": {
      "text/html": [
       "<pre style=\"white-space:pre;overflow-x:auto;line-height:normal;font-family:Menlo,'DejaVu Sans Mono',consolas,'Courier New',monospace\"><span style=\"color: #808000; text-decoration-color: #808000\">Stopping app - local entrypoint completed.\n",
       "</span></pre>\n"
      ],
      "text/plain": [
       "\u001b[33mStopping app - local entrypoint completed.\n",
       "\u001b[0m"
      ]
     },
     "metadata": {},
     "output_type": "display_data"
    },
    {
     "data": {
      "text/html": [
       "<pre style=\"white-space:pre;overflow-x:auto;line-height:normal;font-family:Menlo,'DejaVu Sans Mono',consolas,'Courier New',monospace\"><span style=\"color: #008000; text-decoration-color: #008000\">✓</span> App completed. <span style=\"color: #b2b2b2; text-decoration-color: #b2b2b2\">View run at </span><span style=\"color: #b2b2b2; text-decoration-color: #b2b2b2; text-decoration: underline\">https://modal.com/apps/sayantan6720/main/ap-X1IKIcmUQIIgjkStIiht9G</span>\n",
       "</pre>\n"
      ],
      "text/plain": [
       "\u001b[32m✓\u001b[0m App completed. \u001b[38;5;249mView run at \u001b[0m\u001b[4;38;5;249mhttps://modal.com/apps/sayantan6720/main/ap-X1IKIcmUQIIgjkStIiht9G\u001b[0m\n"
      ]
     },
     "metadata": {},
     "output_type": "display_data"
    }
   ],
   "source": [
    "with modal.enable_output():\n",
    "    with app.run():\n",
    "        df_train = tsv_to_df.remote(\"/root/train.tsv\")\n",
    "        df_test = tsv_to_df.remote(\"/root/test.tsv\")\n",
    "        print(train_and_evaluate.remote(df_train, df_test))\n",
    "    "
   ]
  }
 ],
 "metadata": {
  "kernelspec": {
   "display_name": "emo_detect",
   "language": "python",
   "name": "python3"
  },
  "language_info": {
   "codemirror_mode": {
    "name": "ipython",
    "version": 3
   },
   "file_extension": ".py",
   "mimetype": "text/x-python",
   "name": "python",
   "nbconvert_exporter": "python",
   "pygments_lexer": "ipython3",
   "version": "3.12.7"
  }
 },
 "nbformat": 4,
 "nbformat_minor": 2
}
